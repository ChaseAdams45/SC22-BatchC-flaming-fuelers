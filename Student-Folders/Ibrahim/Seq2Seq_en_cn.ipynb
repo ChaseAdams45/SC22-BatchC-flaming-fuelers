{
 "cells": [
  {
   "cell_type": "markdown",
   "metadata": {
    "collapsed": false
   },
   "source": [
    "# The Task at Hand\n",
    "\n",
    "Have you ever wondered if computers could translate languages? Did you think google translate or duolingo worked because they memorized answers? \n",
    "\n",
    "The type of problem that translation solves is sequence to sequence. For instance, we could convert an english input sequence to a german output sequence. \n",
    "\n",
    "In this activity, we will create an english -> chinese translator and apply what we've been learning about LSTMs & RNNs."
   ]
  },
  {
   "cell_type": "markdown",
   "metadata": {
    "collapsed": false
   },
   "source": [
    "## Preparing the data\n",
    "We need to import our packages and data to learn a little bit about the problem at hand."
   ]
  },
  {
   "cell_type": "code",
   "execution_count": 27,
   "metadata": {
    "collapsed": false,
    "id": "PS0kPzE04YFO"
   },
   "outputs": [
    {
     "name": "stdout",
     "output_type": "stream",
     "text": [
      "Help on class Word2Sequence in module Word2Sequence:\n",
      "\n",
      "class Word2Sequence(builtins.object)\n",
      " |  Word2Sequence(custom_dict=None)\n",
      " |  \n",
      " |  Methods defined here:\n",
      " |  \n",
      " |  __init__(self, custom_dict=None)\n",
      " |      Initialize self.  See help(type(self)) for accurate signature.\n",
      " |  \n",
      " |  __len__(self)\n",
      " |      returns the number of words categorized (including special tokens)\n",
      " |  \n",
      " |  build_vocab(self, min=5, max=None, max_features=None)\n",
      " |      build self.dict and reverse_dict\n",
      " |      param min:          least occurrance of word to be considered\n",
      " |      param max:          max occurrance of word to be considered\n",
      " |      param max_features: max vocab size for tokenizer\n",
      " |      returns:\n",
      " |  \n",
      " |  fit(self, sentence)\n",
      " |      save words in sentence to self.dict\n",
      " |      param: sentence (1D List): [word1, word2, word3...]\n",
      " |  \n",
      " |  inverse_transform(self, indices, is_tensor=False)\n",
      " |      convert int sequences to string words\n",
      " |      param indices: [1, 2, 3, ...]\n",
      " |      returns: [word1, word2, word3...]\n",
      " |  \n",
      " |  transform(self, sentence, max_len=None, pad_first=False)\n",
      " |      convert setence to int sequence\n",
      " |      param sentence: [word1, word2, word3 ...]\n",
      " |      param max_len: int, do padding or truncation\n",
      " |      returns: 1D List of integers\n",
      " |  \n",
      " |  ----------------------------------------------------------------------\n",
      " |  Data descriptors defined here:\n",
      " |  \n",
      " |  __dict__\n",
      " |      dictionary for instance variables (if defined)\n",
      " |  \n",
      " |  __weakref__\n",
      " |      list of weak references to the object (if defined)\n",
      " |  \n",
      " |  ----------------------------------------------------------------------\n",
      " |  Data and other attributes defined here:\n",
      " |  \n",
      " |  EOS = 2\n",
      " |  \n",
      " |  EOS_TAG = '<EOS>'\n",
      " |  \n",
      " |  PAD = 0\n",
      " |  \n",
      " |  PAD_TAG = '<PAD>'\n",
      " |  \n",
      " |  SOS = 1\n",
      " |  \n",
      " |  SOS_TAG = '<SOS>'\n",
      " |  \n",
      " |  UNK = 3\n",
      " |  \n",
      " |  UNK_TAG = '<UNK>'\n",
      " |  \n",
      " |  special_tokens = ['<PAD>', '<SOS>', '<EOS>', '<UNK>']\n",
      "\n"
     ]
    }
   ],
   "source": [
    "import numpy as np\n",
    "import torch.nn as nn\n",
    "from nltk.tokenize import WordPunctTokenizer\n",
    "from torch.utils.data import Dataset, DataLoader\n",
    "import torch.nn.functional as F\n",
    "import pandas as pd\n",
    "import torch\n",
    "device = torch.device(\"cuda\" if torch.cuda.is_available() else \"cpu\")\n",
    "from Word2Sequence import Word2Sequence\n",
    "from Dataset import Dataset\n",
    "from Seq2Seq import Seq2Seq\n",
    "help(Word2Sequence)"
   ]
  },
  {
   "cell_type": "code",
   "execution_count": 28,
   "metadata": {
    "collapsed": false
   },
   "outputs": [
    {
     "data": {
      "text/html": [
       "<div>\n",
       "<style scoped>\n",
       "    .dataframe tbody tr th:only-of-type {\n",
       "        vertical-align: middle;\n",
       "    }\n",
       "\n",
       "    .dataframe tbody tr th {\n",
       "        vertical-align: top;\n",
       "    }\n",
       "\n",
       "    .dataframe thead th {\n",
       "        text-align: right;\n",
       "    }\n",
       "</style>\n",
       "<table border=\"1\" class=\"dataframe\">\n",
       "  <thead>\n",
       "    <tr style=\"text-align: right;\">\n",
       "      <th></th>\n",
       "      <th>english</th>\n",
       "      <th>chinese</th>\n",
       "    </tr>\n",
       "  </thead>\n",
       "  <tbody>\n",
       "    <tr>\n",
       "      <th>0</th>\n",
       "      <td>Does any other country fan the flames of patri...</td>\n",
       "      <td>有没有一个国家比美国更提倡爱国主义？</td>\n",
       "    </tr>\n",
       "    <tr>\n",
       "      <th>1</th>\n",
       "      <td>I always enjoy listening to classical music wh...</td>\n",
       "      <td>有空的时候，我总喜欢听古典音乐。</td>\n",
       "    </tr>\n",
       "    <tr>\n",
       "      <th>2</th>\n",
       "      <td>I was nine years old when I asked my mom if Sa...</td>\n",
       "      <td>我九岁的时候问我妈妈圣诞老人是否真的存在。</td>\n",
       "    </tr>\n",
       "    <tr>\n",
       "      <th>3</th>\n",
       "      <td>I'm a foreigner and I don't know Czech very we...</td>\n",
       "      <td>我是外国人，我捷克语不好，请说慢一点。</td>\n",
       "    </tr>\n",
       "    <tr>\n",
       "      <th>4</th>\n",
       "      <td>If it's at all possible, I'd like you to take ...</td>\n",
       "      <td>如果可能的話, 我希望你參加下一次的會議。</td>\n",
       "    </tr>\n",
       "  </tbody>\n",
       "</table>\n",
       "</div>"
      ],
      "text/plain": [
       "                                             english                chinese\n",
       "0  Does any other country fan the flames of patri...     有没有一个国家比美国更提倡爱国主义？\n",
       "1  I always enjoy listening to classical music wh...       有空的时候，我总喜欢听古典音乐。\n",
       "2  I was nine years old when I asked my mom if Sa...  我九岁的时候问我妈妈圣诞老人是否真的存在。\n",
       "3  I'm a foreigner and I don't know Czech very we...    我是外国人，我捷克语不好，请说慢一点。\n",
       "4  If it's at all possible, I'd like you to take ...  如果可能的話, 我希望你參加下一次的會議。"
      ]
     },
     "execution_count": 28,
     "metadata": {
     },
     "output_type": "execute_result"
    }
   ],
   "source": [
    "# read small_en-cn.txt file\n",
    "data_path = './eng-chin.txt'\n",
    "df = pd.read_table(data_path,header=None).iloc[:,:]\n",
    "df = df.drop([2],axis=1)\n",
    "df.columns=['english','chinese']\n",
    "\n",
    "input_texts = df.english.values.tolist() #this will be all of the english sentences\n",
    "target_texts = df.chinese.values.tolist() #this will be all of the chinese sentences\n",
    "df.head()"
   ]
  },
  {
   "cell_type": "code",
   "execution_count": 29,
   "metadata": {
    "collapsed": false
   },
   "outputs": [
    {
     "name": "stdout",
     "output_type": "stream",
     "text": [
      "If it's at all possible, I'd like you to take part in the next meeting.\n",
      "善良是聾子能聽盲人能看的語言。\n"
     ]
    }
   ],
   "source": [
    "# Your code here: Try printing some english and chinese sentences from their lists input_texts and target_texts!\n",
    "print(input_texts[4])\n",
    "print(target_texts[7])\n"
   ]
  },
  {
   "cell_type": "code",
   "execution_count": 30,
   "metadata": {
    "collapsed": false,
    "id": "cPXhq9PO4dOC"
   },
   "outputs": [
   ],
   "source": [
    "#read in our model object. Tokenize our data\n",
    "tk = WordPunctTokenizer()\n",
    "english = [tk.tokenize(sentence.lower()) for sentence in input_texts]\n",
    "chinese = [[x for x in sentence] for sentence in target_texts]"
   ]
  },
  {
   "cell_type": "code",
   "execution_count": 31,
   "metadata": {
    "collapsed": false
   },
   "outputs": [
    {
     "name": "stdout",
     "output_type": "stream",
     "text": [
      "25\n",
      "39\n"
     ]
    }
   ],
   "source": [
    "# Your code here: Explore this data. Can you calculate the maximum length of a sequence in each dataset english and chinese?\n",
    "\n",
    "# calculate max_len of any sequence in 'english' list and save it to a variable called max_english_length \n",
    "max_english_length = max([len(i) for i in english])\n",
    "print(max_english_length)\n",
    "# calculate max_len of any sequence in 'chinese' list and save it to a variable called max_chinese_length\n",
    "max_chinese_length = max([len(i) for i in chinese])\n",
    "print(max_chinese_length)"
   ]
  },
  {
   "cell_type": "code",
   "execution_count": 32,
   "metadata": {
    "colab": {
     "base_uri": "https://localhost:8080/"
    },
    "collapsed": false,
    "id": "ZzoUqCrq4fWj",
    "outputId": "4290ee15-457e-44d7-f083-f12a2e5d78a2"
   },
   "outputs": [
    {
     "name": "stdout",
     "output_type": "stream",
     "text": [
      "199\n",
      "317\n",
      "{'<PAD>': 0, '<SOS>': 1, '<EOS>': 2, '<UNK>': 3, 'does': 4, 'any': 5, 'other': 6, 'country': 7, 'the': 8, 'of': 9, 'as': 10, 'much': 11, '?': 12, 'i': 13, 'always': 14, 'enjoy': 15, 'to': 16, 'when': 17, 'have': 18, 'some': 19, 'time': 20, '.': 21, 'was': 22, 'years': 23, 'asked': 24, 'my': 25, 'if': 26, 'really': 27, \"'\": 28, 'm': 29, 'a': 30, 'and': 31, 'don': 32, 't': 33, 'know': 34, 'very': 35, 'well': 36, ',': 37, 'speak': 38, 'it': 39, 's': 40, 'at': 41, 'all': 42, 'd': 43, 'like': 44, 'you': 45, 'take': 46, 'in': 47, 'next': 48, 'work': 49, 'do': 50, 'something': 51, 'more': 52, 'than': 53, 'money': 54, 'not': 55, 'until': 56, 'had': 57, 'myself': 58, 'that': 59, 'knew': 60, 'what': 61, 'mother': 62, 'love': 63, 'is': 64, 'language': 65, 'which': 66, 'can': 67, 'see': 68, 'mary': 69, 'came': 70, 'from': 71, 'school': 72, 'because': 73, 'her': 74, 'father': 75, 'no': 76, 'less': 77, 'me': 78, 'now': 79, 'whether': 80, 'want': 81, 'get': 82, 'or': 83, 'people': 84, 'up': 85, 'on': 86, 'an': 87, 'their': 88, 'police': 89, 'been': 90, 'for': 91, 'stolen': 92, 'almost': 93, 'they': 94, 'would': 95, 'little': 96, 'better': 97, 'took': 98, 'this': 99, 'tom': 100, 'couldn': 101, 'go': 102, 'his': 103, 'family': 104, 'didn': 105, 'enough': 106, 'he': 107, 'look': 108, 'new': 109, 'place': 110, 'last': 111, 'with': 112, 'where': 113, 'station': 114, 'way': 115, 'did': 116, 'said': 117, 'lost': 118, 'day': 119, 'she': 120, 'saw': 121, 'floor': 122, 'learned': 123, 'drive': 124, 'car': 125, 'got': 126, 'driver': 127, 'license': 128, 'eighteen': 129, 'planning': 130, 'going': 131, 'today': 132, 'but': 133, 'then': 134, 'started': 135, 'we': 136, 'were': 137, 'wouldn': 138, 'be': 139, 'most': 140, 'things': 141, 'seem': 142, 'us': 143, 'why': 144, 'just': 145, 'give': 146, 'account': 147, 'able': 148, 'make': 149, 'about': 150, 'too': 151, 'information': 152, 'after': 153, 'english': 154, 'thought': 155, 'found': 156, 'perfect': 157, 'hiding': 158, 'office': 159, 'even': 160, 'come': 161, 'person': 162, 'will': 163, 'believe': 164, 'wasn': 165, 'him': 166, 'returned': 167, 'good': 168, 'front': 169, 'has': 170, 'world': 171, 'out': 172, 'won': 173, 'according': 174, 'there': 175, 'two': 176, 'man': 177, 'sheep': 178, 'differently': 179, 'are': 180, 'rich': 181, 'poor': 182, 'around': 183, 'city': 184, 'someone': 185, 've': 186, 'looks': 187, 'apple': 188, 'every': 189, 'study': 190, 'library': 191, 'native': 192, 'speaker': 193, 'made': 194, 'though': 195, 'borrowed': 196, 'buy': 197, 'being': 198}\n",
      "{'<PAD>': 0, '<SOS>': 1, '<EOS>': 2, '<UNK>': 3, '有': 4, '没': 5, '一': 6, '个': 7, '国': 8, '家': 9, '比': 10, '美': 11, '更': 12, '提': 13, '爱': 14, '？': 15, '的': 16, '时': 17, '候': 18, '，': 19, '我': 20, '总': 21, '喜': 22, '欢': 23, '听': 24, '典': 25, '音': 26, '。': 27, '岁': 28, '问': 29, '妈': 30, '人': 31, '是': 32, '真': 33, '存': 34, '在': 35, '外': 36, '语': 37, '不': 38, '好': 39, '说': 40, '点': 41, '如': 42, '果': 43, '可': 44, '能': 45, '話': 46, ',': 47, ' ': 48, '望': 49, '你': 50, '加': 51, '下': 52, '次': 53, '會': 54, '歡': 55, '做': 56, '工': 57, '作': 58, '就': 59, '西': 60, '直': 61, '到': 62, '自': 63, '己': 64, '了': 65, '孩': 66, '子': 67, '才': 68, '明': 69, '什': 70, '么': 71, '母': 72, '良': 73, '看': 74, '語': 75, '言': 76, '玛': 77, '丽': 78, '着': 79, '从': 80, '学': 81, '校': 82, '回': 83, '里': 84, '因': 85, '为': 86, '她': 87, '朋': 88, '友': 89, '爸': 90, '对': 91, '和': 92, '照': 93, '少': 94, '现': 95, '定': 96, '要': 97, '结': 98, '婚': 99, '為': 100, '而': 101, '機': 102, '上': 103, '警': 104, '察': 105, '大': 106, '前': 107, '开': 108, '始': 109, '找': 110, '被': 111, '偷': 112, '物': 113, '他': 114, '們': 115, '吃': 116, '完': 117, '這': 118, '個': 119, '得': 120, '服': 121, '钱': 122, '所': 123, '以': 124, '汤': 125, '姆': 126, '念': 127, '给': 128, '足': 129, '去': 130, '新': 131, '地': 132, '居': 133, '住': 134, '昨': 135, '晚': 136, '书': 137, '“': 138, '哪': 139, '儿': 140, '”': 141, '车': 142, '站': 143, '送': 144, '些': 145, '间': 146, '见': 147, '吗': 148, '當': 149, '媽': 150, '沒': 151, '生': 152, '幸': 153, '福': 154, '用': 155, '把': 156, '放': 157, '十': 158, '八': 159, '歲': 160, '時': 161, '學': 162, '開': 163, '車': 164, '、': 165, '考': 166, '駕': 167, '本': 168, '来': 169, '预': 170, '今': 171, '天': 172, '但': 173, '接': 174, '雨': 175, '们': 176, '知': 177, '道': 178, '那': 179, '这': 180, '之': 181, '想': 182, '也': 183, '多': 184, '数': 185, '后': 186, '最': 187, '起': 188, '菸': 189, '何': 190, '反': 191, '社': 192, '会': 193, '者': 194, '罪': 195, '行': 196, '或': 197, '感': 198, '忘': 199, '记': 200, '礼': 201, '周': 202, '年': 203, '日': 204, '花': 205, '理': 206, '解': 207, '湯': 208, '法': 209, '文': 210, '论': 211, '事': 212, '情': 213, '该': 214, '交': 215, '分': 216, '信': 217, '失': 218, '業': 219, '後': 220, '英': 221, '拿': 222, '根': 223, '难': 224, '发': 225, '绝': 226, '妙': 227, '藏': 228, '身': 229, '处': 230, '國': 231, '通': 232, '電': 233, '牙': 234, '很': 235, '让': 236, '意': 237, '打': 238, '乎': 239, '對': 240, '成': 241, '相': 242, '父': 243, '全': 244, '位': 245, '然': 246, '乘': 247, '已': 248, '世': 249, '界': 250, '箱': 251, '發': 252, '野': 253, '电': 254, '便': 255, '于': 256, '百': 257, '延': 258, '表': 259, '示': 260, '并': 261, '據': 262, '飛': 263, '教': 264, '1': 265, '只': 266, '羊': 267, '9': 268, '其': 269, '还': 270, '几': 271, '口': 272, '公': 273, '像': 274, '立': 275, '每': 276, '同': 277, '富': 278, '貧': 279, '窮': 280, '尽': 281, '管': 282, '政': 283, '认': 284, 'a': 285, 'r': 286, '图': 287, '围': 288, '出': 289, '待': 290, '於': 291, '遠': 292, '城': 293, '市': 294, '都': 295, '苹': 296, '且': 297, '话': 298, '等': 299, '馆': 300, '习': 301, '2': 302, '写': 303, '高': 304, '当': 305, 'h': 306, 'e': 307, '借': 308, '买': 309, '任': 310, '懂': 311, '羽': 312, '毛': 313, '球': 314, '說': 315, '孔': 316}\n"
     ]
    }
   ],
   "source": [
    "input_tokenizer = Word2Sequence()\n",
    "for words in english:\n",
    "    input_tokenizer.fit(words)\n",
    "input_tokenizer.build_vocab(min=1, max_features=None) #inpu\n",
    "\n",
    "output_tokenizer = Word2Sequence()\n",
    "for words in chinese:\n",
    "    output_tokenizer.fit(words)\n",
    "output_tokenizer.build_vocab(min=1, max_features=None)\n",
    "\n",
    "\n",
    "# Your code here: print the total english words in your input tokenizer and total chinese words in your output tokenizer below!\n",
    "\n",
    "eng_words = input_tokenizer.dict\n",
    "chin_words = output_tokenizer.dict\n",
    "\n",
    "print(len(input_tokenizer))\n",
    "print(len(output_tokenizer))\n",
    "print(eng_words)\n",
    "print(chin_words)"
   ]
  },
  {
   "cell_type": "markdown",
   "metadata": {
    "collapsed": false
   },
   "source": [
    "<h1>Creating the model</h1>\n",
    "\n",
    "![image.png](data:image/png;base64,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)\n",
    "\n",
    "NOTE: For Structure of Encoder Inputs, they can all be either (assume all have same maxlen): \n",
    "\n",
    "1. \\<SOS>, word1, word2, word3, ..., \\<EOS>\n",
    "2. word1, word2, word3, ..., \\<EOS> \n",
    "3. word1, word2, word3, ...\n",
    "\n",
    "NOTE: But Decoder In and Out structures should always look like this (assume all have same maxlen):\n",
    "\n",
    "- Decoder Input: \\<SOS>, word1, word2, word3, ...\n",
    "- Decoder Output: word1, word2, word3, ..., \\<EOS>  \n",
    "\n",
    "This means that our input and ouput max length should be one more than the sequence's max length.\n",
    "\n",
    "WHY? Data Structure:\n",
    "\n",
    "- 1. Encoder Input: [word1, word2, ... + <EOS>]\n",
    "- 2. Decoder Input: [<SOS> + word1, word2, ...]\n",
    "- 3. Decoder Output:[word1, word2, ... + <EOS>]\n",
    "    \n",
    "\n",
    "nn docs - https://pytorch.org/docs/stable/nn.html\n",
    "\n"
   ]
  },
  {
   "cell_type": "code",
   "execution_count": 33,
   "metadata": {
    "collapsed": false,
    "id": "qm_Qhnlk49Rn"
   },
   "outputs": [
   ],
   "source": [
    "# Seq2Seq Parameters\n",
    "in_maxlen = max_english_length + 1 # 25 + 1(<EOS> token)\n",
    "out_maxlen = max_chinese_length + 1 # 39 + 1(<EOS> token or <SOS> token)\n",
    "n_hidden = 32 # number of \"neurons\" per layer\n",
    "d_model = 64 # number of embedding dimensions to represent each word\n",
    "enc_n_class = len(input_tokenizer.dict) # OR... vocab size of englisth -> 199\n",
    "dec_n_class = len(output_tokenizer.dict) # OR... vocab size of chinese -> 317\n",
    "batch_size = 1"
   ]
  },
  {
   "cell_type": "code",
   "execution_count": 34,
   "metadata": {
    "collapsed": false
   },
   "outputs": [
   ],
   "source": [
    "eng_maxlen = max_english_length + 1 # 25 + 1(<EOS> token)\n",
    "chin_maxlen = max_chinese_length + 1  # 39 + 1(<EOS> token or <SOS> token)\n",
    "batch_size = 1 \n",
    "\n",
    "# Setup the Dataset.\n",
    "dataset = Dataset(\n",
    "    X = english,\n",
    "    Y = chinese,\n",
    "    in_tknz = input_tokenizer, out_tknz = output_tokenizer,\n",
    "    in_maxlen = eng_maxlen, out_maxlen = chin_maxlen\n",
    ")\n",
    "\n",
    "'''\n",
    "The following are helper functions to help pytorch. You won't need to know this much.\n",
    "'''\n",
    "# NOTE: collate_fn preprocesses your input from PyTorch Dataset above during PyTorch DataLoader\n",
    "def collate_fn(batch):\n",
    "    '''\n",
    "    param batch: ([enc_in, dec_in, dec_out]， [enc_in, dec_in, dec_out], output of getitem...)\n",
    "    '''\n",
    "    # unpack values\n",
    "    enc_in, dec_in, dec_out = list(zip(*batch))\n",
    "    # Return tensor type\n",
    "    return torch.LongTensor(enc_in), torch.LongTensor(dec_in), torch.LongTensor(dec_out)\n",
    "\n",
    "def get_dataloader(dataset, batch_size, shuffle=True, drop_last=True, collate_fn=collate_fn):\n",
    "    '''\n",
    "    Returns a way to access and use the data\n",
    "    '''\n",
    "    dataloader = DataLoader(dataset=dataset,\n",
    "                            batch_size=batch_size,\n",
    "                            shuffle=shuffle,\n",
    "                            drop_last=drop_last,\n",
    "                            collate_fn=collate_fn)\n",
    "    return dataloader\n",
    "# Get PyTorch DataLoader\n",
    "dataloader = get_dataloader(dataset, batch_size)\n",
    "dataloader = get_dataloader(dataset, batch_size)"
   ]
  },
  {
   "cell_type": "code",
   "execution_count": 35,
   "metadata": {
    "colab": {
     "base_uri": "https://localhost:8080/"
    },
    "collapsed": false,
    "id": "oVVbVP7l5AJg",
    "outputId": "e28da9fa-5fa2-4fbd-b4d3-49de9999475b"
   },
   "outputs": [
    {
     "name": "stderr",
     "output_type": "stream",
     "text": [
      "/projects/aebc210b-e912-4df7-91ea-37e0f8451ece/miniconda3/envs/nlp_env/lib/python3.8/site-packages/torch/nn/modules/rnn.py:62: UserWarning: dropout option adds dropout after all but last recurrent layer, so non-zero dropout expects num_layers greater than 1, but got dropout=0.3 and num_layers=1\n",
      "  warnings.warn(\"dropout option adds dropout after all but last \"\n"
     ]
    },
    {
     "data": {
      "text/plain": [
       "Seq2Seq(\n",
       "  (encoder): GRU(64, 32, dropout=0.3)\n",
       "  (decoder): GRU(64, 32, dropout=0.3)\n",
       "  (embed_enc): Embedding(199, 64)\n",
       "  (embed_dec): Embedding(317, 64)\n",
       "  (fc): Linear(in_features=32, out_features=317, bias=True)\n",
       ")"
      ]
     },
     "execution_count": 35,
     "metadata": {
     },
     "output_type": "execute_result"
    }
   ],
   "source": [
    "model = Seq2Seq(\n",
    "    in_maxlen = in_maxlen,\n",
    "    out_maxlen = out_maxlen,\n",
    "    n_hidden = n_hidden,\n",
    "    enc_n_class = len(input_tokenizer.dict),\n",
    "    dec_n_class = len(output_tokenizer.dict),\n",
    "    d_model = d_model,\n",
    "    num_layers = 1,\n",
    ")\n",
    "model.to(device)\n",
    "# # If you have saved a model before\n",
    "# model.load_state_dict(torch.load(\"seq2seq.pt\", map_location=device))"
   ]
  },
  {
   "cell_type": "code",
   "execution_count": 36,
   "metadata": {
    "collapsed": false,
    "id": "PtNvjmBo5A8W"
   },
   "outputs": [
   ],
   "source": [
    "# Define Loss and Optimizer -- these are ways we define performance for our model. If you're curious: https://pytorch.org/tutorials/beginner/basics/optimization_tutorial.html\n",
    "criterion = nn.CrossEntropyLoss()\n",
    "optim = torch.optim.Adam(model.parameters(), lr=1e-2)"
   ]
  },
  {
   "cell_type": "markdown",
   "metadata": {
    "collapsed": false,
    "id": "wVpmLnAtBLEV"
   },
   "source": [
    "<h1>Training our model</h1>"
   ]
  },
  {
   "cell_type": "code",
   "execution_count": 44,
   "metadata": {
    "colab": {
     "base_uri": "https://localhost:8080/"
    },
    "collapsed": false,
    "id": "PTSlF8fk5QpG",
    "outputId": "3eb0df28-80b9-452b-e9b5-5c7ffff27c98",
    "scrolled": true
   },
   "outputs": [
    {
     "name": "stdout",
     "output_type": "stream",
     "text": [
      "Epoch: 0, Loss: 12.239891052246094\n"
     ]
    },
    {
     "name": "stdout",
     "output_type": "stream",
     "text": [
      "Epoch: 10, Loss: 10.612025260925293\n"
     ]
    },
    {
     "name": "stdout",
     "output_type": "stream",
     "text": [
      "Epoch: 20, Loss: 9.206803321838379\n"
     ]
    },
    {
     "name": "stdout",
     "output_type": "stream",
     "text": [
      "Epoch: 30, Loss: 8.047005653381348\n"
     ]
    },
    {
     "name": "stdout",
     "output_type": "stream",
     "text": [
      "Epoch: 40, Loss: 7.094229698181152\n"
     ]
    },
    {
     "name": "stdout",
     "output_type": "stream",
     "text": [
      "Epoch: 50, Loss: 6.378555774688721\n"
     ]
    },
    {
     "name": "stdout",
     "output_type": "stream",
     "text": [
      "Epoch: 60, Loss: 5.614348888397217\n"
     ]
    },
    {
     "name": "stdout",
     "output_type": "stream",
     "text": [
      "Epoch: 70, Loss: 5.004857540130615\n"
     ]
    },
    {
     "name": "stdout",
     "output_type": "stream",
     "text": [
      "Epoch: 80, Loss: 4.523636817932129\n"
     ]
    },
    {
     "name": "stdout",
     "output_type": "stream",
     "text": [
      "Epoch: 90, Loss: 4.103368282318115\n"
     ]
    },
    {
     "name": "stdout",
     "output_type": "stream",
     "text": [
      "Epoch: 100, Loss: 3.704559803009033\n"
     ]
    },
    {
     "name": "stdout",
     "output_type": "stream",
     "text": [
      "Epoch: 110, Loss: 3.445056200027466\n"
     ]
    },
    {
     "name": "stdout",
     "output_type": "stream",
     "text": [
      "Epoch: 120, Loss: 3.9256134033203125\n"
     ]
    }
   ],
   "source": [
    "'''\n",
    "Your code here: change the number of epochs to see how it effects training time and quality\n",
    "'''\n",
    "epochs = 200\n",
    "\n",
    "\n",
    "'''\n",
    "Training -- no need to touch the code below.\n",
    "'''\n",
    "torch.cuda.empty_cache()\n",
    "model.train()\n",
    "model.to(device)\n",
    "loss_records = []\n",
    "\n",
    "\n",
    "for epoch in range(epochs):\n",
    "    # runs the model and calculates loss\n",
    "    loss = 0\n",
    "    for _, (enc_in, dec_in, dec_out) in enumerate(dataloader):\n",
    "        # enc_h_0.shape: [1(num_layers), 1(batch_size), 32(hidden_size)]\n",
    "        enc_h_0 = model.init_enc_hidden_GRU(batch_size, device)\n",
    "        # To Cuda Device if available\n",
    "        enc_in, dec_in = enc_in.to(device), dec_in.to(device)\n",
    "        \n",
    "        pred = model(enc_in, enc_h_0, dec_in)\n",
    "        \n",
    "        dec_out = dec_out.to(device)\n",
    "        for i in range(len(dec_out)): # dec_in.shape: [1(b), 40(out_maxlen)]\n",
    "            # pred[i].shape: [40(out_maxlen), 317(dec_n_class)]\n",
    "            # dec_out[i].shape: [40(out_maxlen)]\n",
    "            loss += criterion(pred[i], dec_out[i])\n",
    "\n",
    "    if (epoch) % 10 == 0:\n",
    "        print(f\"Epoch: {epoch}, Loss: {loss}\")\n",
    "\n",
    "    if (epoch) % 100 == 0:\n",
    "        loss_records.append(loss)\n",
    "    \n",
    "    # runs the actual back propacation\n",
    "    optim.zero_grad()\n",
    "    loss.backward()\n",
    "    optim.step()\n",
    "    torch.save(model.state_dict(), \"seq2seq.pt\")"
   ]
  },
  {
   "cell_type": "markdown",
   "metadata": {
    "collapsed": false
   },
   "source": [
    "## Let's check out our model's progress\n",
    "No need to change the code below, this will plot our loss over time. How do you think we can tweak our code to decrease loss even further?"
   ]
  },
  {
   "cell_type": "code",
   "execution_count": 1,
   "metadata": {
    "collapsed": false,
    "id": "DCWlner5CkY-"
   },
   "outputs": [
   ],
   "source": [
    "import matplotlib.pyplot as plt\n",
    "plt.switch_backend('agg')\n",
    "%matplotlib inline\n",
    "import matplotlib.ticker as ticker\n",
    "import numpy as np\n",
    "\n",
    "def showPlot(points): # Helper function for showing our plots\n",
    "    plt.figure()\n",
    "    fig, ax = plt.subplots()\n",
    "    loc = ticker.MultipleLocator(base=0.2)\n",
    "    ax.yaxis.set_major_locator(loc)\n",
    "    plt.plot(points)"
   ]
  },
  {
   "cell_type": "code",
   "execution_count": 2,
   "metadata": {
    "colab": {
     "base_uri": "https://localhost:8080/",
     "height": 720
    },
    "collapsed": false,
    "id": "WGjbNIopCkzd",
    "outputId": "dc2375cb-efe2-4756-dd01-309e4f056e1a"
   },
   "outputs": [
    {
     "ename": "NameError",
     "evalue": "name 'loss_records' is not defined",
     "output_type": "error",
     "traceback": [
      "\u001b[0;31m---------------------------------------------------------------------------\u001b[0m",
      "\u001b[0;31mNameError\u001b[0m                                 Traceback (most recent call last)",
      "Input \u001b[0;32mIn [2]\u001b[0m, in \u001b[0;36m<cell line: 1>\u001b[0;34m()\u001b[0m\n\u001b[0;32m----> 1\u001b[0m showPlot([loss\u001b[38;5;241m.\u001b[39mcpu()\u001b[38;5;241m.\u001b[39mitem() \u001b[38;5;28;01mfor\u001b[39;00m loss \u001b[38;5;129;01min\u001b[39;00m \u001b[43mloss_records\u001b[49m])\n",
      "\u001b[0;31mNameError\u001b[0m: name 'loss_records' is not defined"
     ]
    }
   ],
   "source": [
    "showPlot([loss.cpu().item() for loss in loss_records])"
   ]
  },
  {
   "cell_type": "markdown",
   "metadata": {
    "collapsed": false
   },
   "source": [
    "<h1>Code for Translating with our Model</h1>\n",
    "This is where the Seq2Seq happens after the model is trained.\n"
   ]
  },
  {
   "cell_type": "code",
   "execution_count": 40,
   "metadata": {
    "collapsed": false,
    "id": "XHs9IRJK8usV"
   },
   "outputs": [
   ],
   "source": [
    "'''\n",
    "No need to touch this code: \n",
    "'''\n",
    "\n",
    "def translate(eng_sent, model, device):\n",
    "    # set up the inputs and variables\n",
    "    model.eval()\n",
    "    model.to(device)\n",
    "    eng_sent = tk.tokenize(eng_sent.lower()) + [\"<EOS>\"]\n",
    "    eng_sent = input_tokenizer.transform(eng_sent, max_len=in_maxlen, pad_first=False)\n",
    "    dec_in = ([\"<SOS>\"] + [\"<PAD>\"]*out_maxlen)[:out_maxlen]\n",
    "    dec_in = output_tokenizer.transform(dec_in, max_len=out_maxlen, pad_first=False)\n",
    "    \n",
    "    enc_h_0 = model.init_enc_hidden_GRU(batch_size, device)\n",
    "    eng_sent, dec_in = torch.LongTensor(eng_sent), torch.LongTensor(dec_in)\n",
    "\n",
    "    eng_sent = eng_sent.unsqueeze(0)\n",
    "    dec_in = dec_in.unsqueeze(0)\n",
    "    eng_sent, dec_in = eng_sent.to(device), dec_in.to(device)\n",
    "\n",
    "    # run the model\n",
    "    with torch.no_grad():\n",
    "        # eng_sent: [1(b), 26(in_maxlen)]\n",
    "        embedded_X = model.embed_enc(eng_sent)\n",
    "        # embedded_X: [26(in_maxlen), 1(b), 64(d_model)] <- [1(b), 26(in_maxlen), 64(d_model)]\n",
    "        embedded_X = embedded_X.permute(1, 0, 2)\n",
    "        _, memory = model.encoder(embedded_X, enc_h_0)\n",
    "        pred_loc = 0\n",
    "        for i in range(out_maxlen-1):\n",
    "            embedded_Y = model.embed_dec(dec_in)\n",
    "            embedded_Y = embedded_Y.permute(1, 0, 2)\n",
    "            outputs, _ = model.decoder(embedded_Y, memory)\n",
    "            outputs = outputs.permute(1, 0, 2)\n",
    "            pred = model.fc(outputs)\n",
    "            pred = pred[0][pred_loc].topk(1)[1].item()\n",
    "            pred_loc += 1\n",
    "            if pred == 2:\n",
    "                dec_in[0][pred_loc] = pred\n",
    "                break\n",
    "            else:\n",
    "                dec_in[0][pred_loc] = pred\n",
    "    return dec_in"
   ]
  },
  {
   "cell_type": "markdown",
   "metadata": {
    "collapsed": false,
    "id": "kG_fTQzoBsMu"
   },
   "source": [
    "# Using our Model in Practice\n",
    "Check out these examples below. This is how you can translate sequences!"
   ]
  },
  {
   "cell_type": "code",
   "execution_count": 41,
   "metadata": {
    "colab": {
     "base_uri": "https://localhost:8080/"
    },
    "collapsed": false,
    "id": "fh0-iZdvBUFF",
    "outputId": "f42cb9ed-a961-4d0f-c94c-6be4fb8d6656",
    "scrolled": true
   },
   "outputs": [
    {
     "name": "stdout",
     "output_type": "stream",
     "text": [
      "Tom did the best he could, but he wasn't able to get a higher grade than Mary. -> \n",
      "汤姆得出<UNK>论他做什么，玛丽都不会喜欢的结论。\n",
      "Eighty percent of all information on computers around the world is in English. -> \n",
      "全世界百分之八十電<UNK>上的<UNK><UNK>都是用英語<UNK>的。\n",
      "She visits the dentist on a regular basis, so she seldom gets toothaches. -> \n",
      "她定<UNK>去看牙<UNK>，所以她很少牙<UNK>。\n",
      "His scores are always better than mine, even though he doesn't study very much. -> \n",
      "他的<UNK>物<UNK>给不足的的时候，他不得不去找新的地<UNK>居住。\n",
      "If it looks like an apple and it tastes like an apple, it's probably an apple. -> \n",
      "如果看起来像个苹果而且吃起来也像苹果的话，可能就是苹果。\n"
     ]
    }
   ],
   "source": [
    "import random\n",
    "eng_sents = random.sample(input_texts, 5)\n",
    "for sent in eng_sents:\n",
    "  translated = translate(sent, model, torch.device(\"cpu\"))\n",
    "  translated_sent = output_tokenizer.inverse_transform(translated[0], is_tensor=True)\n",
    "  translated_sent = \"\".join([word for word in translated_sent if word != \"<SOS>\" and word != \"<EOS>\"and word != \"<PAD>\"])\n",
    "  print(f\"{sent} -> \\n{translated_sent}\")"
   ]
  },
  {
   "cell_type": "markdown",
   "metadata": {
    "collapsed": false
   },
   "source": [
    "# Your turn!\n",
    "\n",
    "Can you use the code in the cell above to translate custom sentences? \n",
    "\n"
   ]
  },
  {
   "cell_type": "code",
   "execution_count": 42,
   "metadata": {
    "collapsed": false
   },
   "outputs": [
    {
     "data": {
      "text/plain": [
       "\"\\nYour code here: translate custom sentences using the code above. Hint: You won't need a for loop!\\n\""
      ]
     },
     "execution_count": 42,
     "metadata": {
     },
     "output_type": "execute_result"
    }
   ],
   "source": [
    "'''\n",
    "Your code here: translate custom sentences using the code above. Hint: You won't need a for loop!\n",
    "'''"
   ]
  },
  {
   "cell_type": "code",
   "execution_count": 43,
   "metadata": {
    "cocalc": {
     "outputs": {
      "0": {
       "name": "input",
       "opts": {
        "password": false,
        "prompt": "type english: "
       },
       "output_type": "stream",
       "value": "tom was visiting the dentist and then started to read with the lights on"
      }
     }
    },
    "collapsed": false
   },
   "outputs": [
    {
     "name": "stdout",
     "output_type": "stream",
     "text": "type english:  tom was visiting the dentist and then started to read with the lights on"
    },
    {
     "name": "stdout",
     "output_type": "stream",
     "text": [
      "tom was visiting the dentist and then started to read with the lights on -> \n",
      "<UNK><UNK>的感<UNK>。\n"
     ]
    }
   ],
   "source": [
    "translation = input(\"type english: \")\n",
    "translated = translate(translation, model, torch.device(\"cpu\"))\n",
    "translated_sent = output_tokenizer.inverse_transform(translated[0], is_tensor=True)\n",
    "translated_sent = \"\".join([word for word in translated_sent if word != \"<SOS>\" and word != \"<EOS>\"and word != \"<PAD>\"])\n",
    "print(f\"{translation} -> \\n{translated_sent}\")"
   ]
  },
  {
   "cell_type": "code",
   "execution_count": 0,
   "metadata": {
    "collapsed": false
   },
   "outputs": [
   ],
   "source": [
   ]
  }
 ],
 "metadata": {
  "accelerator": "GPU",
  "colab": {
   "collapsed_sections": [
   ],
   "name": "Seq2Seq en-cn.ipynb",
   "provenance": [
   ]
  },
  "interpreter": {
   "hash": "335ee12212264728feb72f243af72c5a8ea26c832f07e1f651ce9e17c7ceae23"
  },
  "kernelspec": {
   "display_name": "Python (nlp_env)",
   "language": "python",
   "metadata": {
    "debugger": true
   },
   "name": "nlp_env",
   "resource_dir": "/projects/aebc210b-e912-4df7-91ea-37e0f8451ece/.local/share/jupyter/kernels/nlp_env"
  },
  "language_info": {
   "codemirror_mode": {
    "name": "ipython",
    "version": 3
   },
   "file_extension": ".py",
   "mimetype": "text/x-python",
   "name": "python",
   "nbconvert_exporter": "python",
   "pygments_lexer": "ipython3",
   "version": "3.8.13"
  }
 },
 "nbformat": 4,
 "nbformat_minor": 4
}