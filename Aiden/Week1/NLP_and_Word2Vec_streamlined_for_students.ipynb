{
 "cells": [
  {
   "cell_type": "markdown",
   "metadata": {
    "collapsed": false
   },
   "source": [
    "# Natural Language Processing using NLTK"
   ]
  },
  {
   "cell_type": "markdown",
   "metadata": {
    "collapsed": false
   },
   "source": [
   ]
  },
  {
   "cell_type": "code",
   "execution_count": 164,
   "metadata": {
    "collapsed": false
   },
   "outputs": [
    {
     "name": "stderr",
     "output_type": "stream",
     "text": [
      "[nltk_data] Downloading package wordnet to /projects/aebc210b-e912-4df\n",
      "[nltk_data]     7-91ea-37e0f8451ece/nltk_data...\n",
      "[nltk_data]   Package wordnet is already up-to-date!\n",
      "[nltk_data] Downloading package punkt to /projects/aebc210b-e912-4df7-\n",
      "[nltk_data]     91ea-37e0f8451ece/nltk_data...\n",
      "[nltk_data]   Package punkt is already up-to-date!\n"
     ]
    },
    {
     "data": {
      "text/plain": [
       "True"
      ]
     },
     "execution_count": 164,
     "metadata": {
     },
     "output_type": "execute_result"
    }
   ],
   "source": [
    "# Install NLTK - pip install nltk\n",
    "import nltk\n",
    "nltk.download('wordnet')\n",
    "nltk.download('punkt')"
   ]
  },
  {
   "cell_type": "markdown",
   "metadata": {
    "collapsed": false
   },
   "source": [
    "## NLP Part 0 - Get some Data!\n",
    "\n",
    "This section's code is mostly given to you as a review for how you can scrape and manipulate data from the web. "
   ]
  },
  {
   "cell_type": "code",
   "execution_count": 165,
   "metadata": {
    "collapsed": false
   },
   "outputs": [
   ],
   "source": [
    "import urllib\n",
    "import bs4 as bs\n",
    "import re"
   ]
  },
  {
   "cell_type": "code",
   "execution_count": 166,
   "metadata": {
    "collapsed": false
   },
   "outputs": [
   ],
   "source": [
    "# We will read the contents of the Wikipedia article \"Global_warming\" as an example, please feel free to use your own! You can use the url below:\n",
    "url = 'https://en.wikipedia.org/wiki/Valorant' # you can change this to use other sites as well.\n",
    "\n",
    "# We can open the page using \"urllib.request.urlopen\" then read it using \".read()\"\n",
    "source = urllib.request.urlopen(url).read()\n",
    "\n",
    "# Beautiful Soup is a Python library for pulling data out of HTML and XML files.\n",
    "# you may need to install a parser library --> \"!pip3 install lxml\"\n",
    "# Parsing the data/creating BeautifulSoup object\n",
    "\n",
    "soup = bs.BeautifulSoup(source,\"html.parser\") \n",
    "\n",
    "# Fetching the data\n",
    "text = \"\"\n",
    "for paragraph in soup.find_all('p'): #The <p> tag defines a paragraph in the webpages\n",
    "    text += paragraph.text\n",
    "\n",
    "# Preprocessing the data\n",
    "\n",
    "text = re.sub(r'\\[[0-9]*\\]',' ',text) # [0-9]* --> Matches zero or more repetitions of any digit from 0 to 9\n",
    "text = text.lower() #everything to lowercase\n",
    "text = re.sub(r'\\W^.?!',' ',text) # \\W --> Matches any character which is not a word character except (.?!)\n",
    "text = re.sub(r'\\d',' ',text) # \\d --> Matches any decimal digit\n",
    "text = re.sub(r'\\s+',' ',text) # \\s --> Matches any characters that are considered whitespace (Ex: [\\t\\n\\r\\f\\v].)"
   ]
  },
  {
   "cell_type": "code",
   "execution_count": 167,
   "metadata": {
    "collapsed": false
   },
   "outputs": [
    {
     "data": {
      "text/plain": [
       "' valorant (stylized as valorant) is a free-to-play first-person hero shooter developed and published by riot games, for microsoft windows. first teased under the codename project a in october , the ga'"
      ]
     },
     "execution_count": 167,
     "metadata": {
     },
     "output_type": "execute_result"
    }
   ],
   "source": [
    "text[:200]"
   ]
  },
  {
   "cell_type": "markdown",
   "metadata": {
    "collapsed": false
   },
   "source": [
    "## NLP Part 1 - Tokenization of paragraphs/sentences\n",
    "\n",
    "In this section we are going to tokenize our sentences and words. If you aren't familiar with tokenization, we recommend looking up \"what is tokenization\". \n",
    "\n",
    "You should also spend time on the [NLTK documentation](https://www.nltk.org/). If you're not sure how to do something, or get an error, it is best to google it first and ask questions as you go!"
   ]
  },
  {
   "cell_type": "code",
   "execution_count": 168,
   "metadata": {
    "collapsed": false
   },
   "outputs": [
   ],
   "source": [
    "'''\n",
    "Your code here: Tokenize the words from the data and set it to a variable called words.\n",
    "Hint: how to this might be on the very home page of NLTK!\n",
    "'''\n",
    "words = nltk.word_tokenize(text)"
   ]
  },
  {
   "cell_type": "code",
   "execution_count": 169,
   "metadata": {
    "collapsed": false
   },
   "outputs": [
    {
     "name": "stdout",
     "output_type": "stream",
     "text": [
      "['valorant', '(', 'stylized', 'as', 'valorant', ')', 'is', 'a', 'free-to-play', 'first-person']\n"
     ]
    }
   ],
   "source": [
    "print(words[:10])"
   ]
  },
  {
   "cell_type": "code",
   "execution_count": 170,
   "metadata": {
    "collapsed": false
   },
   "outputs": [
   ],
   "source": [
    "'''\n",
    "Your code here: Tokenize the sentences from the data  and set it to a variable called sentences.\n",
    "Hint: try googling how to tokenize sentences in NLTK!\n",
    "'''\n",
    "from nltk.tokenize import sent_tokenize\n",
    "sentences = nltk.sent_tokenize(text)"
   ]
  },
  {
   "cell_type": "code",
   "execution_count": 171,
   "metadata": {
    "collapsed": false
   },
   "outputs": [
    {
     "name": "stdout",
     "output_type": "stream",
     "text": [
      "[' valorant (stylized as valorant) is a free-to-play first-person hero shooter developed and published by riot games, for microsoft windows.', 'first teased under the codename project a in october , the game began a closed beta period with limited access on april , , followed by an official release on june , .', 'the development of the game started in .', 'valorant takes inspiration from the counter-strike series of tactical shooters, borrowing several mechanics such as the buy menu, spray patterns, and inaccuracy while moving.', 'valorant is a team-based first-person hero shooter set in the near future.', 'players play as one of a set of agents, characters based on several countries and cultures around the world.', 'in the main game mode, players are assigned to either the attacking or defending team with each team having five players on it.', 'agents have unique abilities, each requiring charges, as well as a unique ultimate ability that requires charging through kills, deaths, orbs, or objectives.', 'every player starts each round with a \"classic\" pistol and one or more \"signature ability\" charges.', 'other weapons and ability charges can be purchased using an in-game economic system that awards money based on the outcome of the previous round, any kills the player is responsible for, and any objectives completed.']\n"
     ]
    }
   ],
   "source": [
    "print(sentences[:10])"
   ]
  },
  {
   "cell_type": "markdown",
   "metadata": {
    "collapsed": false
   },
   "source": [
    "## NLP Part 2 - Stopwords and Punctuation\n",
    "Now we are going to work to remove stopwords and punctuation from our data. Why do you think we are going to do this? Do some research if you don't know yet. "
   ]
  },
  {
   "cell_type": "code",
   "execution_count": 172,
   "metadata": {
    "collapsed": false
   },
   "outputs": [
    {
     "name": "stderr",
     "output_type": "stream",
     "text": [
      "[nltk_data] Downloading package stopwords to /projects/aebc210b-e912-4\n",
      "[nltk_data]     df7-91ea-37e0f8451ece/nltk_data...\n",
      "[nltk_data]   Package stopwords is already up-to-date!\n"
     ]
    }
   ],
   "source": [
    "nltk.download('stopwords')\n",
    "from nltk.corpus import stopwords"
   ]
  },
  {
   "cell_type": "code",
   "execution_count": 173,
   "metadata": {
    "collapsed": false,
    "scrolled": true
   },
   "outputs": [
    {
     "name": "stdout",
     "output_type": "stream",
     "text": [
      "['valorant ( stylized valorant ) free-to-play first-person hero shooter developed published riot games , microsoft windows .', 'first teased codename project october , game began closed beta period limited access april , , followed official release june , .', 'development game started .', 'valorant takes inspiration counter-strike series tactical shooters , borrowing several mechanics buy menu , spray patterns , inaccuracy moving .', 'valorant team-based first-person hero shooter set near future .', 'players play one set agents , characters based several countries cultures around world .', 'main game mode , players assigned either attacking defending team team five players .', 'agents unique abilities , requiring charges , well unique ultimate ability requires charging kills , deaths , orbs , objectives .', \"every player starts round `` classic '' pistol one `` signature ability '' charges .\", 'weapons ability charges purchased using in-game economic system awards money based outcome previous round , kills player responsible , objectives completed .']\n"
     ]
    }
   ],
   "source": [
    "'''\n",
    "define a function called \"remove_stopwords\" that takes in a list of the sentences of the text and returns one that doesn't have any stopwords.\n",
    "'''\n",
    "def remove_stopwords(sentences):\n",
    "    ### Some code goes here. Hint: You may have to look up how to remove stopwords in NLTK if you get stuck. ###\n",
    "    for i, sent in enumerate(sentences):\n",
    "        words = nltk.word_tokenize(sent)\n",
    "        new_words = [word for word in words if word not in stopwords.words('english')]\n",
    "        sentences[i] = ' '.join(new_words)\n",
    "    return sentences\n",
    "\n",
    "###Then actually apply your function###\n",
    "sentences = remove_stopwords(sentences)\n",
    "print(sentences[:10]) #Check if it worked correctly. Are all stopwords removed?"
   ]
  },
  {
   "cell_type": "code",
   "execution_count": 174,
   "metadata": {
    "collapsed": false
   },
   "outputs": [
    {
     "name": "stdout",
     "output_type": "stream",
     "text": [
      "['valorant stylized valorant free-to-play first-person hero shooter developed published riot games microsoft windows', 'first teased codename project october , game began closed beta period limited access april , , followed official release june , .', 'development game started .', 'valorant takes inspiration counter-strike series tactical shooters , borrowing several mechanics buy menu , spray patterns , inaccuracy moving .', 'valorant team-based first-person hero shooter set near future .', 'players play one set agents , characters based several countries cultures around world .', 'main game mode , players assigned either attacking defending team team five players .', 'agents unique abilities , requiring charges , well unique ultimate ability requires charging kills , deaths , orbs , objectives .', \"every player starts round `` classic '' pistol one `` signature ability '' charges .\", 'weapons ability charges purchased using in-game economic system awards money based outcome previous round , kills player responsible , objectives completed .']\n"
     ]
    }
   ],
   "source": [
    "'''\n",
    "define a function called \"remove_punctuation\" that removes punctuation from the sentences.\n",
    "'''\n",
    "def remove_punctuation(sentences):\n",
    "    ### Some code goes here. Hint: Try looking up how to remove stopwords in NLTK if you get stuck. ###\n",
    "    for i in range(len(sentences)):\n",
    "        words = nltk.word_tokenize(sentences[i])\n",
    "        words = [word for word in words if word not in \",.?()\"]\n",
    "        sentences[i] = ' '.join(words)\n",
    "        return sentences\n",
    "sentences = remove_punctuation(sentences)\n",
    "print(sentences[:10]) #eliminating all punctuation."
   ]
  },
  {
   "cell_type": "markdown",
   "metadata": {
    "collapsed": false
   },
   "source": [
    "## NLP Part 3a - Stemming the words\n",
    "Stemming is the process of reducing inflected (or sometimes derived) words to their word stem, base or root form. There is an example below!"
   ]
  },
  {
   "cell_type": "code",
   "execution_count": 175,
   "metadata": {
    "collapsed": false
   },
   "outputs": [
    {
     "data": {
      "text/plain": [
       "'troubl'"
      ]
     },
     "execution_count": 175,
     "metadata": {
     },
     "output_type": "execute_result"
    }
   ],
   "source": [
    "from nltk.stem import PorterStemmer\n",
    "\n",
    "stemmer = PorterStemmer()\n",
    "# try each of the words below\n",
    "stemmer.stem('troubled')\n",
    "#stemmer.stem('trouble')\n",
    "#stemmer.stem('troubling')\n",
    "#stemmer.stem('troubles')"
   ]
  },
  {
   "cell_type": "code",
   "execution_count": 176,
   "metadata": {
    "collapsed": false
   },
   "outputs": [
   ],
   "source": [
    "'''\n",
    "Your code here:\n",
    "Define a function called \"stem_sentences\" that takes in a list of sentences and returns a list of stemmed sentences.\n",
    "'''\n",
    "def stem_sentences(sentences):\n",
    "    for i, sent in enumerate(sentences):\n",
    "        words = nltk.word_tokenize(sent)\n",
    "        new_words = [stemmer.stem(word) for word in words]\n",
    "        sentences[i] = ' '.join(new_words)\n",
    "    return sentences\n",
    "    ### Some code goes here. Hint: Try looking up how to stem words in NLTK if you get stuck (or simply use the example above and run stemmer in a loop!). ###\n"
   ]
  },
  {
   "cell_type": "code",
   "execution_count": 177,
   "metadata": {
    "collapsed": false
   },
   "outputs": [
    {
     "name": "stdout",
     "output_type": "stream",
     "text": [
      "['valor styliz valor free-to-play first-person hero shooter develop publish riot game microsoft window', 'first teas codenam project octob , game began close beta period limit access april , , follow offici releas june , .', 'develop game start .', 'valor take inspir counter-strik seri tactic shooter , borrow sever mechan buy menu , spray pattern , inaccuraci move .', 'valor team-bas first-person hero shooter set near futur .', 'player play one set agent , charact base sever countri cultur around world .', 'main game mode , player assign either attack defend team team five player .', 'agent uniqu abil , requir charg , well uniqu ultim abil requir charg kill , death , orb , object .', 'everi player start round `` classic `` pistol one `` signatur abil `` charg .', 'weapon abil charg purchas use in-gam econom system award money base outcom previou round , kill player respons , object complet .']\n"
     ]
    }
   ],
   "source": [
    "stemmed_sentences = stem_sentences(sentences)\n",
    "print(stemmed_sentences[:10])"
   ]
  },
  {
   "cell_type": "markdown",
   "metadata": {
    "collapsed": false
   },
   "source": [
    "## NLP Part 3b - Lemmatization\n",
    "Lemmatization considers the context and converts the word to its meaningful base form. There is a cool tutorial and definition of lemmatization in NLTK [here](https://www.geeksforgeeks.org/python-lemmatization-with-nltk/)."
   ]
  },
  {
   "cell_type": "code",
   "execution_count": 178,
   "metadata": {
    "collapsed": false
   },
   "outputs": [
    {
     "name": "stdout",
     "output_type": "stream",
     "text": [
      "['valor styliz valor free-to-play first-person hero shooter develop publish riot game microsoft window', 'first teas codenam project octob , game began close beta period limit access april , , follow offici releas june , .', 'develop game start .', 'valor take inspir counter-strik seri tactic shooter , borrow sever mechan buy menu , spray pattern , inaccuraci move .', 'valor team-bas first-person hero shooter set near futur .', 'player play one set agent , charact base sever countri cultur around world .', 'main game mode , player assign either attack defend team team five player .', 'agent uniqu abil , requir charg , well uniqu ultim abil requir charg kill , death , orb , object .', 'everi player start round `` classic `` pistol one `` signatur abil `` charg .', 'weapon abil charg purchas use in-gam econom system award money base outcom previou round , kill player respons , object complet .']\n"
     ]
    }
   ],
   "source": [
    "from nltk.stem import WordNetLemmatizer\n",
    "    \n",
    "## Step 1: Import the lemmatizer\n",
    "lemmatizer = WordNetLemmatizer()\n",
    "\n",
    "'''\n",
    "Your code here: Define a function called \"lem_sentences\" that: loops through the sentences, split the sentences up by words and applies \"lemmatizer.lemmatize\" to each word and then join everything back into a sentence\n",
    "'''\n",
    "##Similar to stopwords: For loop through the sentences, split by words and apply \"lemmatizer.lemmatize\" to each word and join back into a sentence\n",
    "def lem_sentences(sentences):\n",
    "\n",
    "    return sentences\n",
    "sentences = lem_sentences(sentences)\n",
    "print(sentences[:10]) "
   ]
  },
  {
   "cell_type": "code",
   "execution_count": 179,
   "metadata": {
    "collapsed": false
   },
   "outputs": [
    {
     "name": "stdout",
     "output_type": "stream",
     "text": [
      "['valor styliz valor free-to-play first-person hero shooter develop publish riot game microsoft window', 'first teas codenam project octob , game began close beta period limit access april , , follow offici releas june , .', 'develop game start .', 'valor take inspir counter-strik seri tactic shooter , borrow sever mechan buy menu , spray pattern , inaccuraci move .', 'valor team-bas first-person hero shooter set near futur .', 'player play one set agent , charact base sever countri cultur around world .', 'main game mode , player assign either attack defend team team five player .', 'agent uniqu abil , requir charg , well uniqu ultim abil requir charg kill , death , orb , object .', 'everi player start round `` classic `` pistol one `` signatur abil `` charg .', 'weapon abil charg purchas use in-gam econom system award money base outcom previou round , kill player respons , object complet .']\n"
     ]
    }
   ],
   "source": [
    "print(sentences[:10])"
   ]
  },
  {
   "cell_type": "markdown",
   "metadata": {
    "collapsed": false
   },
   "source": [
    "## NLP Part 4 - POS Tagging\n",
    "Parts of speech tagging is marking up a word in a text as corresponding to a particular part of speech, based on both its definition and its context."
   ]
  },
  {
   "cell_type": "code",
   "execution_count": 180,
   "metadata": {
    "collapsed": false
   },
   "outputs": [
    {
     "name": "stderr",
     "output_type": "stream",
     "text": [
      "[nltk_data] Downloading package averaged_perceptron_tagger to /project\n",
      "[nltk_data]     s/aebc210b-e912-4df7-91ea-37e0f8451ece/nltk_data...\n",
      "[nltk_data]   Package averaged_perceptron_tagger is already up-to-\n",
      "[nltk_data]       date!\n"
     ]
    },
    {
     "data": {
      "text/plain": [
       "True"
      ]
     },
     "execution_count": 180,
     "metadata": {
     },
     "output_type": "execute_result"
    }
   ],
   "source": [
    "nltk.download('averaged_perceptron_tagger')"
   ]
  },
  {
   "cell_type": "code",
   "execution_count": 181,
   "metadata": {
    "collapsed": false
   },
   "outputs": [
    {
     "name": "stdout",
     "output_type": "stream",
     "text": [
      "valorant_NN (_( stylized_VBN as_IN valorant_NN )_) is_VBZ a_DT free-to-play_JJ first-person_JJ hero_NN shooter_NN developed_VBD and_CC published_VBN by_IN riot_NN games_NNS ,_, for_IN microsoft_JJ windows_NNS ._. first_RB teased_VBN under_IN the_DT codename_NN project_NN a_DT in_IN october_NN ,_, the_DT game_NN began_VBD a_DT closed_JJ beta_NN period_NN with_IN limited_JJ access_NN on_IN april_NN ,_, ,_, followed_VBN by_IN an_DT official_JJ release_NN on_IN june_NN ,_, ._. the_DT development_NN of_IN the_DT game_NN started_VBD in_IN ._. valorant_JJ takes_VBZ inspiration_NN from_IN the_DT counter-strike_JJ series_NN of_IN tactical_JJ shooters_NNS ,_, borrowing_VBG several_JJ mechanics_NNS such_JJ as_IN the_DT buy_NN menu_NN ,_, spray_NN patterns_NNS ,_, and_CC inaccuracy_NN while_IN moving_VBG ._. valorant_NN is_VBZ a_DT team-based_JJ first-person_JJ hero_NN shooter_NN set_VBN in_IN the_DT near_JJ future_NN ._. players_NNS play_VBP as_IN one_CD of_IN a_DT set_NN of_IN agents_NNS ,_, cha\n"
     ]
    }
   ],
   "source": [
    "# POS Tagging example\n",
    "# CC - coordinating conjunction\n",
    "# NN - noun, singular (cat, tree)\n",
    "all_words = nltk.word_tokenize(text)  ###If we want to look at part of speech taking before we stem/lem\n",
    "\n",
    "tagged_words = nltk.pos_tag(all_words)\n",
    "##Creates a list of lists where each element of the list is [word,partofspeech abbreviation]\n",
    "\n",
    "# Tagged word paragraph\n",
    "word_tags = []\n",
    "for tw in tagged_words:\n",
    "    word_tags.append(tw[0]+\"_\"+tw[1])\n",
    "\n",
    "tagged_paragraph = ' '.join(word_tags)\n",
    "\n",
    "'''\n",
    "Your code here: print the first 1000 characters of tagged_paragraph.\n",
    "'''\n",
    "print(tagged_paragraph[:1000])"
   ]
  },
  {
   "cell_type": "markdown",
   "metadata": {
    "collapsed": false
   },
   "source": [
    "# Word2Vec Model Visualization\n",
    "\n"
   ]
  },
  {
   "cell_type": "code",
   "execution_count": 182,
   "metadata": {
    "collapsed": false
   },
   "outputs": [
    {
     "name": "stderr",
     "output_type": "stream",
     "text": [
      "[nltk_data] Downloading package punkt to /projects/aebc210b-e912-4df7-\n",
      "[nltk_data]     91ea-37e0f8451ece/nltk_data...\n",
      "[nltk_data]   Package punkt is already up-to-date!\n"
     ]
    }
   ],
   "source": [
    "# Install gensim - pip install gensim\n",
    "import nltk\n",
    "from gensim.models import Word2Vec\n",
    "import matplotlib.pyplot as plt\n",
    "nltk.download('punkt')\n",
    "from wordcloud import WordCloud"
   ]
  },
  {
   "cell_type": "code",
   "execution_count": 183,
   "metadata": {
    "collapsed": false
   },
   "outputs": [
   ],
   "source": [
    "#Let's go ahead and create a list that's formatted how word2vec needs:\n",
    "    # a list of lists where the ith entry in the list is the word tokenizaiton of the ith sentence (after preprocessing)\n",
    "tokenized = [nltk.word_tokenize(sentence) for sentence in sentences]"
   ]
  },
  {
   "cell_type": "code",
   "execution_count": 184,
   "metadata": {
    "collapsed": true,
    "scrolled": true
   },
   "outputs": [
    {
     "name": "stdout",
     "output_type": "stream",
     "text": [
      "[['valorant', '(', 'stylized', 'as', 'valorant', ')', 'is', 'a', 'free-to-play', 'first-person', 'hero', 'shooter', 'developed', 'and', 'published', 'by', 'riot', 'games', ',', 'for', 'microsoft', 'windows', '.', 'first', 'teased', 'under', 'the', 'codename', 'project', 'a', 'in', 'october', ',', 'the', 'game', 'began', 'a', 'closed', 'beta', 'period', 'with', 'limited', 'access', 'on', 'april', ',', ',', 'followed', 'by', 'an', 'official', 'release', 'on', 'june', ',', '.', 'the', 'development', 'of', 'the', 'game', 'started', 'in', '.', 'valorant', 'takes', 'inspiration', 'from', 'the', 'counter-strike', 'series', 'of', 'tactical', 'shooters', ',', 'borrowing', 'several', 'mechanics', 'such', 'as', 'the', 'buy', 'menu', ',', 'spray', 'patterns', ',', 'and', 'inaccuracy', 'while', 'moving', '.', 'valorant', 'is', 'a', 'team-based', 'first-person', 'hero', 'shooter', 'set', 'in', 'the', 'near', 'future', '.', 'players', 'play', 'as', 'one', 'of', 'a', 'set', 'of', 'agents', ',', 'characters', 'based', 'on', 'several', 'countries', 'and', 'cultures', 'around', 'the', 'world', '.', 'in', 'the', 'main', 'game', 'mode', ',', 'players', 'are', 'assigned', 'to', 'either', 'the', 'attacking', 'or', 'defending', 'team', 'with', 'each', 'team', 'having', 'five', 'players', 'on', 'it', '.', 'agents', 'have', 'unique', 'abilities', ',', 'each', 'requiring', 'charges', ',', 'as', 'well', 'as', 'a', 'unique', 'ultimate', 'ability', 'that', 'requires', 'charging', 'through', 'kills', ',', 'deaths', ',', 'orbs', ',', 'or', 'objectives', '.', 'every', 'player', 'starts', 'each', 'round', 'with', 'a', '``', 'classic', \"''\", 'pistol', 'and', 'one', 'or', 'more', '``', 'signature', 'ability', \"''\", 'charges', '.', 'other', 'weapons', 'and', 'ability', 'charges', 'can', 'be', 'purchased', 'using', 'an', 'in-game', 'economic', 'system', 'that', 'awards', 'money', 'based', 'on', 'the', 'outcome', 'of', 'the', 'previous', 'round', ',', 'any', 'kills', 'the', 'player', 'is', 'responsible', 'for', ',', 'and', 'any', 'objectives', 'completed', '.', 'the', 'game', 'has', 'an', 'assortment', 'of', 'weapons', 'including', 'secondary', 'guns', 'like', 'sidearms', 'and', 'primary', 'guns', 'like', 'submachine', 'guns', ',', 'shotguns', ',', 'machine', 'guns', ',', 'assault', 'rifles', 'and', 'sniper', 'rifles', '.', 'there', 'are', 'automatic', 'and', 'semi-automatic', 'weapons', 'that', 'each', 'have', 'a', 'unique', 'shooting', 'pattern', 'that', 'has', 'to', 'be', 'controlled', 'by', 'the', 'player', 'to', 'be', 'able', 'to', 'shoot', 'accurately', '.', 'it', 'currently', 'offers', 'agents', 'to', 'choose', 'from', '.', 'they', 'are', 'brimstone', ',', 'viper', ',', 'omen', ',', 'cypher', ',', 'sova', ',', 'sage', ',', 'phoenix', ',', 'jett', ',', 'raze', ',', 'breach', ',', 'reyna', ',', 'killjoy', ',', 'skye', ',', 'yoru', ',', 'astra', ',', 'kay/o', ',', 'chamber', ',', 'neon', ',', 'and', 'fade', '.', 'in', 'the', 'standard', 'non-ranked', 'mode', ',', 'the', 'match', 'is', 'played', 'as', 'best', 'of', '-', 'the', 'first', 'team', 'to', 'win', 'rounds', 'wins', 'the', 'match', '.', 'the', 'attacking', 'team', 'has', 'a', 'bomb-type', 'device', 'called', 'the', 'spike', '.', 'they', 'must', 'deliver', 'and', 'activate', 'the', 'spike', 'on', 'one', 'of', 'the', 'multiple', 'specified', 'locations', '(', 'bomb', 'sites', ')', '.', 'if', 'the', 'attacking', 'team', 'successfully', 'protects', 'the', 'activated', 'spike', 'for', 'seconds', 'it', 'detonates', ',', 'destroying', 'everything', 'in', 'a', 'specific', 'area', ',', 'and', 'they', 'receive', 'a', 'point', '.', 'if', 'the', 'defending', 'team', 'can', 'deactivate', 'the', 'spike', ',', 'or', 'the', '-second', 'round', 'timer', 'expires', 'without', 'the', 'attacking', 'team', 'activating', 'the', 'spike', ',', 'the', 'defending', 'team', 'receives', 'a', 'point', '.', 'if', 'all', 'the', 'members', 'of', 'a', 'team', 'are', 'eliminated', 'before', 'the', 'spike', 'is', 'activated', ',', 'or', 'if', 'all', 'members', 'of', 'the', 'defending', 'team', 'are', 'eliminated', 'after', 'the', 'spike', 'is', 'activated', ',', 'the', 'opposing', 'team', 'earns', 'a', 'point', '.', 'if', 'both', 'teams', 'win', 'rounds', ',', 'sudden', 'death', 'occurs', ',', 'in', 'which', 'the', 'winning', 'team', 'of', 'that', 'round', 'wins', 'the', 'match', ',', 'differing', 'from', 'overtime', 'for', 'competitive', 'matches', '.', 'additionally', ',', 'if', 'after', 'rounds', ',', 'a', 'team', 'wishes', 'to', 'forfeit', 'that', 'match', ',', 'they', 'may', 'request', 'a', 'vote', 'to', 'surrender', '.', 'if', 'the', 'vote', 'is', 'unanimous', ',', 'the', 'winning', 'team', 'gets', 'all', 'the', 'victory', 'credit', 'for', 'every', 'round', 'needed', 'to', 'bring', 'them', 'to', ',', 'with', 'the', 'forfeiting', 'team', 'receiving', 'losing', 'credit', '.', 'a', 'team', 'gets', 'only', 'two', 'chances', 'to', 'surrender', ':', 'one', 'as', 'the', 'attackers', 'and', 'the', 'other', 'as', 'the', 'defenders', '.', 'in', 'the', 'spike', 'rush', 'mode', ',', 'the', 'match', 'is', 'played', 'as', 'best', 'of', 'rounds', '-', 'the', 'first', 'team', 'to', 'win', 'rounds', 'wins', 'the', 'match', '.', 'players', 'begin', 'the', 'round', 'with', 'all', 'abilities', 'fully', 'charged', 'except', 'their', 'ultimate', ',', 'which', 'charges', 'twice', 'as', 'fast', 'as', 'in', 'standard', 'games', '.', 'all', 'players', 'on', 'the', 'attacking', 'team', 'carry', 'a', 'spike', ',', 'but', 'only', 'one', 'spike', 'may', 'be', 'activated', 'per', 'round', '.', 'guns', 'are', 'randomized', 'in', 'every', 'round', 'and', 'every', 'player', 'begins', 'with', 'the', 'same', 'gun', '.', 'ultimate', 'point', 'orbs', 'in', 'the', 'standard', 'game', 'are', 'present', ',', 'but', 'there', 'are', 'multiple', 'power-up', 'orbs', 'instead', '.', 'competitive', 'matches', 'are', 'the', 'same', 'as', 'unranked', 'matches', 'with', 'the', 'addition', 'of', 'a', 'win-based', 'ranking', 'system', 'that', 'assigns', 'a', 'rank', 'to', 'each', 'player', 'after', 'games', 'are', 'played', '.', 'players', 'are', 'required', 'to', 'win', 'at', 'least', 'unrated', 'matches', 'before', 'being', 'able', 'to', 'play', 'competitive', 'matches', '.', 'in', 'july', ',', 'riot', 'introduced', 'a', '``', 'win', 'by', 'two', \"''\", 'condition', 'for', 'competitive', 'matches', ',', 'where', 'instead', 'of', 'playing', 'a', 'single', 'sudden', 'death', 'round', 'at', '-', ',', 'teams', 'will', 'alternate', 'playing', 'rounds', 'on', 'attack', 'and', 'defense', 'in', 'overtime', 'until', 'a', 'team', 'claims', 'victory', 'by', 'securing', 'a', 'two-match', 'lead', '.', 'each', 'overtime', 'round', 'gives', 'players', 'the', 'same', 'amount', 'of', 'money', 'to', 'purchase', 'guns', 'and', 'abilities', ',', 'as', 'well', 'as', 'approximately', 'half', 'of', 'their', 'ultimate', 'ability', 'charge', '.', 'after', 'each', 'group', 'of', 'two', 'rounds', ',', 'players', 'may', 'vote', 'to', 'end', 'the', 'game', 'in', 'a', 'draw', ',', 'requiring', 'players', 'after', 'the', 'first', 'set', ',', 'after', 'the', 'second', ',', 'and', 'thereafter', 'only', 'player', 'to', 'agree', 'to', 'a', 'draw', '.', 'the', 'competitive', 'ranking', 'system', 'ranges', 'from', 'iron', 'to', 'radiant', '.', 'every', 'rank', 'except', 'for', 'radiant', 'has', 'tiers', '.', 'immortal', '&', 'radiant', 'are', 'reserved', 'for', 'top', 'players', 'in', 'which', 'there', 'is', 'a', 'number', 'associated', 'to', 'their', 'rank', 'allowing', 'players', 'in', 'the', 'top', 'to', 'have', 'a', 'metric', 'in', 'which', 'they', 'can', 'compare', 'how', 'they', 'rank', 'up', 'to', 'others', 'at', 'their', 'level', '.', 'the', 'deathmatch', 'mode', 'was', 'introduced', 'on', 'august', ',', '.', 'players', 'enter', 'a', '-minute', 'free-for-all', 'match', 'and', 'the', 'first', 'person', 'to', 'reach', 'kills', 'or', 'the', 'player', 'who', 'has', 'the', 'most', 'kills', 'when', 'time', 'is', 'up', 'wins', 'the', 'match', '.', 'players', 'spawn', 'in', 'with', 'a', 'random', 'agent', ',', 'and', 'all', 'abilities', 'are', 'disabled', 'during', 'the', 'match', 'which', 'indulges', 'pure', 'gunplay', '.', 'green', 'health', 'packs', 'drop', 'on', 'every', 'kill', ',', 'which', 'set', 'the', 'player', 'at', 'maximum', 'health', ',', 'armor', ',', 'and', 'ammunition', ',', 'unless', 'the', 'player', 'is', 'using', 'a', 'machine', 'gun', ',', 'which', 'only', 'gives', 'the', 'player', 'an', 'additional', 'bullets', '.', 'the', 'escalation', 'gamemode', 'was', 'introduced', 'on', 'february', ',', 'and', 'is', 'similar', 'to', 'the', '``', 'gungame', \"''\", 'concept', 'found', 'in', 'counter-strike', 'and', 'call', 'of', 'duty', ':', 'black', 'ops', ',', 'though', 'it', 'is', 'team-based', 'rather', 'than', 'free-for-all', 'with', 'players', 'on', 'each', 'team', '.', 'the', 'game', 'will', 'pick', 'a', 'random', 'selection', 'of', 'weapons', 'to', 'move', 'through', '.', 'as', 'with', 'other', 'gungame', 'versions', ',', 'a', 'team', 'needs', 'to', 'get', 'a', 'certain', 'number', 'of', 'kills', 'to', 'advance', 'to', 'the', 'next', 'weapon', 'and', 'the', 'weapons', 'get', 'progressively', 'worse', 'as', 'the', 'team', 'moves', 'through', 'them', '.', 'there', 'are', 'two', 'winning', 'conditions', ',', 'if', 'one', 'team', 'successfully', 'goes', 'through', 'all', 'levels', ',', 'or', 'if', 'one', 'team', 'is', 'on', 'a', 'higher', 'level', 'than', 'the', 'opposing', 'team', 'within', 'minutes', '.', 'just', 'like', 'deathmatch', ',', 'players', 'spawn', 'in', 'as', 'a', 'random', 'agent', ',', 'unable', 'to', 'use', 'abilities', ',', 'as', 'the', 'gamemode', 'is', 'set', 'for', 'pure', 'gun', 'fights', '.', 'though', ',', 'abilities', 'like', 'sova', \"'s\", 'shock', 'darts', ',', 'raze', \"'s\", 'boom', 'bot', ',', 'and', 'rocket', 'launcher', ',', 'are', 'abilities', 'that', 'everyone', 'gets', 'to', 'use', 'as', 'a', 'weapon', '.', 'after', 'a', 'kill', ',', 'green', 'health', 'packs', 'drop', ',', 'which', 'replenishes', 'the', 'player', \"'s\", 'health', ',', 'armor', ',', 'and', 'ammo', 'to', 'its', 'maximum', '.', 'the', 'gamemode', 'also', 'has', 'auto', 'respawns', 'on', ',', 'respawning', 'players', 'in', 'random', 'locations', 'around', 'the', 'map', '.', 'the', 'replication', 'gamemode', 'went', 'live', 'on', 'may', ',', '.', 'during', 'the', 'agent', 'select', ',', 'players', 'vote', 'on', 'which', 'agent', 'they', 'would', 'want', 'to', 'play', 'as', '.', 'at', 'the', 'end', 'of', 'the', 'time', ',', 'or', 'after', 'everyone', 'has', 'voted', ',', 'the', 'game', 'randomly', 'selects', 'one', 'of', 'the', 'player', \"'s\", 'votes', '.', 'the', 'entire', 'team', 'will', 'then', 'play', 'as', 'that', 'agent', ',', 'even', 'if', 'one', 'of', 'the', 'players', 'has', 'not', 'unlocked', 'that', 'agent', '.', 'it', 'is', 'a', 'best', 'of', 'nine', ',', 'with', 'the', 'players', 'switching', 'sides', 'after', 'the', 'fourth', 'round', '.', 'players', 'can', 'buy', 'guns', 'and', 'shields', 'with', 'a', 'pre-set', 'number', 'of', 'credits', '.', 'abilities', 'are', 'pre-bought', '.', 'weapons', 'and', 'shields', 'are', 'reset', 'every', 'round', '.', 'snowball', 'fight', 'is', 'a', 'limited-time', 'gamemode', 'that', 'was', 'released', 'on', 'december', ',', ',', 'and', 'is', 'only', 'available', 'during', 'christmas', 'season', '.', 'it', 'is', 'a', 'team', 'deathmatch', 'game', 'mode', ',', 'with', 'kills', 'to', 'win', '.', 'abilities', 'are', 'not', 'allowed', 'to', 'be', 'used', ',', 'and', 'players', 'spawn', 'in', 'as', 'a', 'random', 'agent', '.', 'the', 'only', 'weapon', 'available', 'is', 'the', 'snowball', 'launcher', ',', 'which', 'is', 'an', 'instant', 'kill', ',', 'but', 'slow', ',', 'and', 'uses', 'a', 'projectile-based', 'arc', '.', 'there', 'is', 'infinite', 'ammo', '.', 'throughout', 'the', 'game', 'a', '``', 'portal', \"''\", 'will', 'spawn', ',', 'delivering', 'gifts', ',', 'which', 'each', 'contain', 'a', 'random', 'power', 'up', '.', 'there', 'are', 'a', 'large', 'variety', 'of', 'playable', 'agents', 'available', 'in', 'the', 'game', '.', 'agents', 'are', 'divided', 'into', 'roles', ':', 'duelists', ',', 'sentinels', ',', 'initiators', ',', 'and', 'controllers', '.', 'each', 'agent', 'has', 'a', 'different', 'role', 'which', 'indicates', 'how', 'the', 'agent', 'is', 'usually', 'played', '.', 'duelists', 'specialize', 'in', 'attacking', 'and', 'entering', 'a', 'bomb', 'site', 'for', 'the', 'team', '.', 'riot', \"'s\", 'official', 'definition', 'for', 'duelists', 'is', '``', 'self-sufficient', 'fraggers', '.', \"''\", 'duelists', 'mainly', 'create', 'space', 'for', 'their', 'team', 'while', 'entering', 'onto', 'a', 'site', ',', 'giving', 'their', 'teammates', 'information', ',', 'and', 'making', 'entering', 'a', 'site', 'easier', '.', 'their', 'abilities', 'tend', 'to', 'consist', 'of', 'flashes', 'which', 'blind', 'enemies', ',', 'and', 'movement-based', 'abilities', 'that', 'allow', 'for', 'them', 'to', 'cover', 'large', 'distances', 'faster', 'than', 'other', 'agents', '.', 'this', 'type', 'of', 'ability', 'kit', 'allows', 'for', 'duelists', 'to', 'shine', 'best', 'when', 'they', 'are', 'able', 'to', 'catch', 'players', 'off', 'guard', 'and', 'get', 'impact', 'frags', '.', 'on', 'attack', ',', 'duelists', 'are', 'most', 'often', 'expected', 'to', 'play', 'forward', ',', 'leading', 'the', 'attack', '.', 'they', 'are', 'expected', 'to', 'be', 'in', 'front', 'of', 'everyone', 'to', 'get', 'opening', 'picks', 'on', 'enemies', 'since', 'their', 'abilities', 'often', 'give', 'them', 'a', 'competitive', 'advantage', 'when', 'gunfighting', 'an', 'enemy', '.', 'on', 'defense', ',', 'duelists', 'will', 'be', 'holding', 'choke', 'points', 'where', 'enemies', 'try', 'to', 'enter', 'sites', '.', 'due', 'to', 'the', 'mobility', 'in', 'their', 'kits', ',', 'they', 'are', 'able', 'to', 'get', 'a', 'pick', 'and', 'reposition', ',', 'giving', 'their', 'team', 'a', 'numbers', 'advantage', '.', 'duelists', 'include', 'jett', ',', 'phoenix', ',', 'raze', ',', 'reyna', ',', 'yoru', ',', 'and', 'neon', '.', 'sentinels', 'are', 'the', 'defensive', 'line', ',', 'which', 'specializes', 'in', 'locking', 'down', 'sites', 'and', 'protecting', 'teammates', 'from', 'enemies', '.', 'their', 'abilities', 'mainly', 'consist', 'of', 'static', \"'objects\", \"'\", 'that', 'are', 'obstacles', 'to', 'the', 'enemies', '.', 'these', 'objects', 'can', 'give', 'the', 'team', 'valuable', 'information', 'and/or', 'deal', 'damage', '.', 'on', 'attack', ',', 'sentinels', 'can', 'use', 'their', 'abilities', 'to', 'cut', 'off', 'certain', 'parts', 'of', 'the', 'map', 'or', 'set', 'up', \"'objects\", \"'\", 'that', 'can', 'ensure', 'the', 'enemy', 'can', 'not', 'flank', 'without', 'being', 'noticed', '.', 'on', 'defense', ',', 'sentinels', 'can', 'use', 'their', 'abilities', 'to', 'slow', 'enemies', 'from', 'entering', 'a', 'site', '.', 'this', 'provides', 'valuable', 'time', 'for', 'the', 'sentinels', \"'\", 'team', 'members', 'to', 'come', 'and', 'provide', 'defensive', 'support', '.', 'sentinels', 'include', 'chamber', ',', 'cypher', ',', 'killjoy', ',', 'and', 'sage', '.', 'initiators', 'plan', 'out', 'the', 'offensive', 'pushes', '.', 'initiators', 'specialize', 'in', 'breaking', 'through', 'defensive', 'enemy', 'positions', '.', 'initiators', \"'\", 'abilities', 'can', 'consist', 'of', 'flashes', 'but', 'also', 'abilities', 'that', 'can', 'reveal', 'the', 'location', 'of', 'enemies', '.', 'this', 'information', 'allows', 'for', 'attackers', 'to', 'know', 'where', 'enemies', 'are', 'and', 'make', 'taking', 'a', 'site', 'easier', '.', 'on', 'defense', ',', 'initiators', 'can', 'use', 'their', 'abilities', 'to', 'help', 'their', 'teammates', 'retake', 'a', 'lost', 'site', '.', 'initiators', 'include', 'breach', ',', 'kay/o', ',', 'skye', ',', 'sova', ',', 'and', 'fade', '.', 'controllers', 'specialize', 'in', '``', 'slicing', 'up', 'dangerous', 'territory', 'to', 'set', 'their', 'team', 'up', 'for', 'success', '.', \"''\", 'they', 'use', 'their', 'abilities', 'to', 'create', 'coverage', 'or', 'clear', 'out', 'areas', 'of', 'space', 'with', 'crowd', 'control', '.', 'to', 'help', 'their', 'team', 'enter', 'into', 'enemy', 'territory', ',', 'their', 'abilities', 'can', 'consist', 'of', 'smokes', ',', 'slows', ',', 'stuns', ',', 'and', 'flashes', '.', 'with', 'their', 'smokes', ',', 'controllers', 'can', 'control', 'sightlines', 'on', 'the', 'map', ',', 'making', 'it', 'safer', 'to', 'move', 'through', 'the', 'map', 'without', 'getting', 'seen', '.', 'on', 'offense', ',', 'controllers', 'can', 'smoke', 'off', 'certain', 'sightlines', 'and', 'use', 'their', 'crowd', 'control', 'on', 'common', 'defensive', 'spots', 'to', 'force', 'enemies', 'into', 'the', 'open', '.', 'on', 'defense', ',', 'controllers', 'can', 'smoke', 'and/or', 'use', 'crowd', 'control', 'on', 'entryways', 'to', 'delay', 'or', 'discourage', 'the', 'enemy', 'team', 'from', 'moving', 'forward', '.', 'controllers', 'include', 'astra', ',', 'brimstone', ',', 'omen', ',', 'and', 'viper', '.', 'the', 'store', 'is', 'composed', 'of', 'two', 'sections', ':', 'featured', 'and', 'offers', '.', 'in', 'both', 'sections', ',', 'players', 'can', 'buy', 'weapon', 'skins', 'using', 'valorant', 'points', 'that', 'change', 'the', 'appearance', 'of', 'their', 'weapon', 'in-game', '.', 'valorant', 'points', '(', 'vp', ')', 'is', 'an', 'in-game', 'currency', 'that', 'can', 'only', 'be', 'purchased', 'with', 'real', 'currency', 'within', 'the', 'game', 'client', '.', 'the', 'offers', 'section', 'of', 'the', 'store', 'gives', 'players', 'the', 'ability', 'to', 'buy', 'four', 'unowned', 'skins', 'and', 'the', 'four', 'skins', 'offered', 'change', 'randomly', 'every', 'hours', '.', 'the', 'featured', 'section', 'of', 'the', 'store', 'changes', 'every', 'two', 'weeks', '.', 'most', 'of', 'the', 'time', ',', 'the', 'featured', 'section', 'will', 'have', 'new', 'skin', 'releases', 'from', 'riot', ',', 'giving', 'players', 'a', 'limited', 'opportunity', 'to', 'buy', 'them', 'without', 'having', 'to', 'wait', 'for', 'them', 'to', 'appear', 'in', 'the', 'offers', 'section', '.', 'valorant', 'was', 'developed', 'and', 'published', 'by', 'riot', 'games', ',', 'the', 'studio', 'behind', 'league', 'of', 'legends', '.', 'development', 'started', 'in', ',', 'within', 'their', 'research', 'and', 'development', 'division', '.', 'joe', 'ziegler', ',', 'valorant', \"'s\", 'game', 'director', ',', 'is', 'credited', 'with', 'the', 'initial', 'idea', 'of', 'valorant', 'while', 'formulating', 'potential', 'games', 'with', 'other', 'riot', 'developers', '.', 'david', 'nottingham', 'is', 'the', 'creative', 'director', 'for', 'valorant', '.', 'trevor', 'romleski', ',', 'former', 'league', 'of', 'legends', \"'s\", 'designer', 'and', 'salvatore', 'garozzo', ',', 'former', 'professional', 'player', 'and', 'map', 'designer', 'for', 'counter-strike', ':', 'global', 'offensive', 'are', 'game', 'designers', 'for', 'valorant', '.', 'moby', 'francke', ',', 'former', 'valve', 'developer', ',', 'who', 'has', 'been', 'art', 'and', 'character', 'designer', 'for', 'half-life', 'and', 'team', 'fortress', ',', 'is', 'the', 'art', 'director', '.', 'valorant', 'was', 'developed', 'with', 'two', 'main', 'focuses', ':', 'making', 'tactical', 'shooters', 'and', 'e-sports', 'more', 'accessible', 'to', 'new', 'players', ',', 'and', 'creating', 'a', 'game', 'that', 'would', 'attract', 'a', 'large', 'competitive', 'scene', ',', 'while', 'solving', 'many', 'of', 'the', 'points', 'of', 'criticism', 'voiced', 'by', 'professional', 'players', 'from', 'games', 'in', 'the', 'genre', '.', 'games', 'aimed', 'at', 'large', ',', 'active', 'communities', 'and', 'player', 'bases', ',', 'typically', 'free-to-play', 'games', 'like', 'fortnite', 'or', 'riot', \"'s\", 'own', 'league', 'of', 'legends', ',', 'tend', 'to', 'put', 'an', 'emphasis', 'on', 'a', 'wider', 'array', 'of', 'system', 'performance', 'improvements', 'and', 'game', 'stability', 'rather', 'than', 'newer', 'technologies', 'or', 'graphics', 'as', 'a', 'way', 'of', 'making', 'sure', 'they', \"'re\", 'as', 'accessible', 'as', 'possible', '.', 'in', 'interviews', 'leading', 'up', 'to', 'the', 'game', \"'s\", 'launch', ',', 'game', 'director', 'joe', 'ziegler', 'and', 'producer', 'anna', 'donlon', 'said', 'that', 'valorant', 'was', 'made', 'for', 'people', 'playing', 'their', 'first', 'tactical', 'shooter', 'just', 'as', 'much', 'as', 'it', 'was', 'for', 'professional', 'players', ',', 'and', 'that', 'accessibility', 'of', 'the', 'game', 'was', 'a', 'large', 'priority', '.', 'riot', 'chose', 'to', 'develop', 'valorant', 'using', 'unreal', 'engine', ',', 'which', 'the', 'development', 'team', 'said', 'would', 'allow', 'it', 'to', 'focus', 'on', 'gameplay', 'and', 'optimizations', 'rather', 'than', 'spending', 'time', 'on', 'core', 'systems', '.', 'to', 'meet', 'the', 'goal', 'of', 'a', 'lower', 'performance', 'barrier', 'so', 'more', 'people', 'could', 'play', 'valorant', ',', 'the', 'team', 'set', 'notably', 'low', 'minimum', 'and', 'recommended', 'hardware', 'requirements', 'for', 'the', 'game', '.', 'to', 'reach', 'frames', 'per', 'second', 'on', 'these', 'small', 'requirements', ',', 'the', 'game', \"'s\", 'engineering', 'team', ',', 'led', 'by', 'marcus', 'reid', ',', 'who', 'previously', 'worked', 'on', 'gears', 'of', 'war', ',', 'had', 'to', 'make', 'several', 'modifications', 'to', 'the', 'engine', '.', 'these', 'modifications', 'included', 'editing', 'the', 'renderer', 'using', 'the', 'engine', \"'s\", 'mobile', 'rendering', 'path', 'as', 'base', ',', 'or', 'reworking', 'the', 'game', \"'s\", 'lighting', 'systems', 'to', 'fit', 'the', 'static', 'lighting', 'that', 'tactical', 'shooters', 'often', 'require', ',', 'as', 'to', 'not', 'interfere', 'with', 'gameplay', '.', 'unreal', \"'s\", 'modern', 'underpinnings', 'also', 'helped', 'to', 'solve', 'many', 'of', 'the', 'issues', 'that', 'riot', 'set', 'out', 'to', 'solve', 'from', 'other', 'games', 'in', 'the', 'genre', ',', 'and', 'additional', 'modifications', 'helped', 'to', 'meet', 'the', 'game', \"'s\", 'other', 'goal', 'of', 'creating', 'a', 'suitable', 'competitive', 'environment', ',', 'including', 'optimizing', 'server', 'performance', 'by', 'disabling', 'character', 'animations', 'in', 'non-combat', 'situations', 'and', 'removing', 'unnecessary', 'evaluations', 'in', 'the', 'hit', 'registration', 'process', '.', 'during', 'development', ',', 'riot', 'games', 'made', 'promises', 'to', 'work', 'towards', 'a', 'ping', 'of', 'less', 'than', 'milliseconds', 'for', 'at', 'least', '%', 'of', 'the', 'game', \"'s\", 'players', '.', 'to', 'accomplish', 'this', ',', 'riot', 'promised', '-tick', 'servers', 'in', 'or', 'near', 'most', 'major', 'cities', 'in', 'the', 'world', ',', 'as', 'well', 'as', 'working', 'with', 'internet', 'service', 'providers', 'to', 'set', 'up', 'dedicated', 'connections', 'to', 'those', 'servers', '.', 'due', 'to', 'the', 'increase', 'in', 'internet', 'traffic', 'during', 'the', 'covid-', 'pandemic', ',', 'riot', 'has', 'had', 'trouble', 'optimizing', 'connections', 'and', 'ping', 'to', 'their', 'promised', 'levels', '.', 'valorant', 'was', 'teased', 'under', 'a', 'tentative', 'title', 'project', 'a', 'in', 'october', '.', 'it', 'was', 'announced', 'on', 'march', ',', ',', 'with', 'a', 'gameplay', 'video', 'on', 'youtube', 'called', '``', 'the', 'round', \"''\", '.', 'the', 'closed', 'beta', 'of', 'the', 'game', 'was', 'launched', 'on', 'april', ',', '.', 'for', 'a', 'chance', 'to', 'obtain', 'a', 'beta', 'access', 'key', ',', 'players', 'were', 'required', 'to', 'sign', 'up', 'for', 'accounts', 'with', 'both', 'riot', 'games', 'and', 'the', 'streaming', 'platform', 'twitch', 'and', 'watch', 'related', 'streams', '.', 'this', 'beta', 'ended', 'on', 'may', ',', ',', 'with', 'the', 'game', 'being', 'fully', 'released', 'on', 'june', ',', '.', 'valorant', 'has', 'been', 'compared', 'to', 'valve', \"'s\", 'counter-strike', ':', 'global', 'offensive', ',', 'with', 'both', 'games', 'having', 'two', 'teams', 'of', 'five', 'attempting', 'to', 'plant', 'a', 'bomb', ',', 'and', 'blizzard', 'entertainment', \"'s\", 'class-based', 'shooter', 'overwatch', ',', 'as', 'both', 'games', 'have', 'multiple', 'classes', 'and', 'characters', 'catering', 'to', 'various', 'playstyles', '.', 'austen', 'goslin', 'of', 'polygon', 'praised', 'the', 'beta', 'of', 'valorant', 'describing', 'it', 'as', 'refined', 'and', '``', 'one', 'of', 'the', 'most', 'fun', 'tactical', 'shooters', 'i', \"'ve\", 'played', \"''\", '.', 'on', 'the', 'first', 'day', 'of', 'its', 'beta', 'launch', ',', 'valorant', 'amassed', 'the', 'second', 'most', 'concurrent', 'viewers', 'for', 'any', 'game', 'ever', 'on', 'twitch', ',', 'with', '.', 'million', 'viewers', 'tuning', 'in', 'across', 'dozens', 'of', 'streams', '.', 'only', 'another', 'title', 'from', 'riot', 'games', ',', 'league', 'of', 'legends', ',', 'has', 'had', 'more', 'concurrent', 'viewers', ',', 'when', '.', 'million', 'watched', 'the', 'world', 'championship', 'final', '.', 'valorant', \"'s\", 'has', 'received', 'criticism', 'for', 'its', 'toxic', ',', 'male-dominated', 'voice', 'communication', 'system', '.', \"'emily\", 'rand', 'of', 'espn', 'talked', 'about', 'her', 'negative', 'experience', 'playing', 'on', 'teams', 'using', 'the', 'voice', 'communication', 'function', 'as', 'a', 'female', '.', 'rand', '``', 'flat-out', '[', 'refuses', ']', 'to', 'use', 'it', 'at', 'all', \"''\", 'when', 'she', 'is', \"n't\", 'playing', 'with', 'her', 'friends', '.', 'jordon', 'oloman', 'of', 'the', 'guardian', 'explains', 'how', '``', 'the', 'bad', 'apples', 'among', 'valorant', '’', 's', 'players', 'expect', 'an', 'absurd', 'level', 'of', 'perfection', ',', 'and', 'the', 'resultant', 'voice-chat', 'criticism', 'is', 'hardly', 'constructive', '.', \"''\", 'it', 'was', 'nominated', 'for', 'best', 'esports', 'game', ',', 'best', 'multiplayer', 'and', 'best', 'community', 'support', 'at', 'the', 'game', 'awards', '.', 'the', 'game', 'has', 'been', 'criticized', 'for', 'its', 'anti-cheat', 'software', ',', 'vanguard', ',', 'as', 'it', 'was', 'revealed', 'to', 'run', 'on', 'a', 'kernel', 'driver', ',', 'which', 'allows', 'access', 'to', 'the', 'computer', 'system', '.', 'osnews', 'expressed', 'concern', 'that', 'riot', 'games', 'and', 'its', 'owner', ',', 'chinese', 'technology', 'conglomerate', 'tencent', ',', 'could', 'spy', 'on', 'players', 'and', 'that', 'the', 'kernel', 'driver', 'could', 'be', 'potentially', 'exploited', 'by', 'third', 'parties', '.', 'however', ',', 'riot', 'games', 'stated', 'that', 'the', 'driver', 'does', 'not', 'send', 'any', 'information', 'back', 'to', 'them', ',', 'and', 'launched', 'a', 'bug', 'bounty', 'program', 'to', 'offer', 'rewards', 'for', 'reports', 'that', 'demonstrate', 'vulnerabilities', 'with', 'the', 'software', '.', 'valorant', 'will', 'not', 'run', 'on', 'windows', 'if', 'the', 'system', 'does', 'not', 'have', 'a', 'trusted', 'platform', 'module', '(', 'tpm', ')', '.', 'compliant', 'cryptoprocessor', 'enabled', ',', 'as', 'required', 'by', 'microsoft', \"'s\", 'minimum', 'system', 'requirements', 'for', 'the', 'operating', 'system', '.', 'valorant', 'has', 'become', 'active', 'within', 'esports', '.', 'riot', 'games', 'decided', 'to', 'create', 'the', 'first', 'tournament', 'called', '``', 'first', 'strike', \"''\", 'to', 'establish', 'a', 'foundation', 'for', 'an', 'esports', 'scene', 'to', 'be', 'created', 'with', 'the', 'game', '.', 'in', 'november', ',', 'riot', 'games', 'announced', 'the', 'tournament', 'series', 'called', 'valorant', 'champions', 'tour', '(', 'vct', ')', 'which', 'is', 'a', 'year-long', 'competition', 'consisting', 'of', 'three', 'levels', ':', 'teams', 'will', 'qualify', 'directly', 'for', 'champions', 'via', 'top', 'places', 'in', 'circuit', 'point', 'standings', 'of', 'their', 'region', ',', 'based', 'on', 'results', 'of', 'challengers', 'and', 'masters', '.', 'teams', 'who', 'are', 'at', 'middle', 'places', 'in', 'circuit', 'point', 'standings', 'will', 'have', 'one', 'more', 'chance', 'to', 'qualify', 'for', 'champions', 'by', 'winning', 'the', 'last', 'chance', 'qualifiers', '(', 'north', 'america', ',', 'emea', ',', 'south', 'america', ',', 'asia', 'pacific', ')', '.', 'the', 'valorant', 'champions', 'was', 'hosted', 'in', '–', 'december', 'at', 'berlin', '.', 'acend', 'defeated', 'gambit', 'esports', 'on', 'the', 'score', '–', 'in', 'finals', 'and', 'became', 'the', 'first', 'ever', 'world', 'champion', 'of', 'valorant', 'esports', '.', 'on', 'june', ',', ',', 'riot', 'games', 'announced', 'its', 'plans', 'to', 'develop', 'a', 'mobile', 'version', 'of', 'valorant', ',', 'which', 'would', 'reportedly', 'be', 'the', 'first', 'step', 'it', 'intends', 'to', 'take', 'to', 'expand', 'the', 'game', \"'s\", 'universe', '.', 'the', 'announcement', 'was', 'made', 'in', 'commemoration', 'of', 'the', 'game', \"'s\", 'first', 'year', ',', 'by', 'which', 'point', 'it', 'had', 'reached', 'over', 'million', 'monthly', 'active', 'players', 'since', 'its', 'launch', '.']]\n"
     ]
    }
   ],
   "source": [
    "# print the tokenized list of lists\n",
    "print(word2vec_list)"
   ]
  },
  {
   "cell_type": "markdown",
   "metadata": {
    "collapsed": false
   },
   "source": [
    "## Training the Word2Vec model\n",
    "\n",
    "For this part you may want to follow a guide [here](https://radimrehurek.com/gensim/models/word2vec.html). \n",
    "\n"
   ]
  },
  {
   "cell_type": "code",
   "execution_count": 186,
   "metadata": {
    "collapsed": true
   },
   "outputs": [
    {
     "name": "stderr",
     "output_type": "stream",
     "text": [
      "[nltk_data] Downloading package punkt to /projects/aebc210b-e912-4df7-\n",
      "[nltk_data]     91ea-37e0f8451ece/nltk_data...\n",
      "[nltk_data]   Package punkt is already up-to-date!\n",
      "[nltk_data] Downloading package averaged_perceptron_tagger to /project\n",
      "[nltk_data]     s/aebc210b-e912-4df7-91ea-37e0f8451ece/nltk_data...\n",
      "[nltk_data]   Package averaged_perceptron_tagger is already up-to-\n",
      "[nltk_data]       date!\n"
     ]
    },
    {
     "ename": "AttributeError",
     "evalue": "'list' object has no attribute 'most_common'",
     "output_type": "error",
     "traceback": [
      "\u001b[0;31m---------------------------------------------------------------------------\u001b[0m",
      "\u001b[0;31mAttributeError\u001b[0m                            Traceback (most recent call last)",
      "Input \u001b[0;32mIn [186]\u001b[0m, in \u001b[0;36m<cell line: 12>\u001b[0;34m()\u001b[0m\n\u001b[1;32m      9\u001b[0m nltk\u001b[38;5;241m.\u001b[39mdownload(\u001b[38;5;124m'\u001b[39m\u001b[38;5;124maveraged_perceptron_tagger\u001b[39m\u001b[38;5;124m'\u001b[39m)\n\u001b[1;32m     11\u001b[0m \u001b[38;5;66;03m# get the most common words of the model (it's entire vocabulary)\u001b[39;00m\n\u001b[0;32m---> 12\u001b[0m \u001b[38;5;28mprint\u001b[39m(\u001b[43mword2vec_list\u001b[49m\u001b[38;5;241;43m.\u001b[39;49m\u001b[43mmost_common\u001b[49m(\u001b[38;5;241m10\u001b[39m))\n",
      "\u001b[0;31mAttributeError\u001b[0m: 'list' object has no attribute 'most_common'"
     ]
    }
   ],
   "source": [
    "''' Training the Word2Vec model. You should pass:\n",
    "1. a list of lists where the ith entry in the list is the word tokenizaiton of the ith sentence\n",
    "2. min_count=1 --> Ignores all words with total frequency lower than 1 (i.e., include everything).\n",
    "'''\n",
    "# create the model\n",
    "model = gensim.models.Word2Vec(word2vec_list)\n",
    "# get the most common words of the model (it's entire vocabulary)\n",
    "\n",
    "# save the model to use it later\n",
    "\n",
    "# model = Word2Vec.load(\"word2vec.model\")"
   ]
  },
  {
   "cell_type": "code",
   "execution_count": 0,
   "metadata": {
    "collapsed": false
   },
   "outputs": [
   ],
   "source": [
    "#print the first 10 most common words."
   ]
  },
  {
   "cell_type": "code",
   "execution_count": 0,
   "metadata": {
    "collapsed": false
   },
   "outputs": [
   ],
   "source": [
    "# Look up the most similar words to certain words in your text using the model.wv.most_similar() function"
   ]
  },
  {
   "cell_type": "code",
   "execution_count": 0,
   "metadata": {
    "collapsed": false
   },
   "outputs": [
   ],
   "source": [
   ]
  },
  {
   "cell_type": "markdown",
   "metadata": {
    "collapsed": false
   },
   "source": [
    "## Testing our model"
   ]
  },
  {
   "cell_type": "code",
   "execution_count": 0,
   "metadata": {
    "collapsed": false
   },
   "outputs": [
   ],
   "source": [
    "    # Finding Word Vectors - print word vectors for certain words in your text\n"
   ]
  },
  {
   "cell_type": "code",
   "execution_count": 0,
   "metadata": {
    "collapsed": false
   },
   "outputs": [
   ],
   "source": [
    "    ### Finding the most similar words in the model ###\n"
   ]
  },
  {
   "cell_type": "code",
   "execution_count": 0,
   "metadata": {
    "collapsed": false
   },
   "outputs": [
   ],
   "source": [
   ]
  },
  {
   "cell_type": "code",
   "execution_count": 0,
   "metadata": {
    "collapsed": false
   },
   "outputs": [
   ],
   "source": [
    "similar1, similar2"
   ]
  },
  {
   "cell_type": "code",
   "execution_count": 0,
   "metadata": {
    "collapsed": false
   },
   "outputs": [
   ],
   "source": [
    "# code to print a wordcloud for your sentences\n",
    "wordcloud = WordCloud(\n",
    "                        background_color='white',\n",
    "                        max_words=100,\n",
    "                        max_font_size=50, \n",
    "                        random_state=42\n",
    "                        ).generate(str(sentences))\n",
    "fig = plt.figure(1)\n",
    "plt.figure(figsize=(10,10))\n",
    "plt.imshow(wordcloud, interpolation=\"bilinear\")\n",
    "plt.axis('off')\n",
    "plt.show()"
   ]
  },
  {
   "cell_type": "markdown",
   "metadata": {
    "collapsed": false
   },
   "source": [
    "### Why did we do all this work?"
   ]
  },
  {
   "cell_type": "code",
   "execution_count": 0,
   "metadata": {
    "collapsed": false
   },
   "outputs": [
   ],
   "source": [
    "# reFetching the data\n",
    "lame_text = \"\"\n",
    "for paragraph in soup.find_all('p'): #The <p> tag defines a paragraph in the webpages\n",
    "    lame_text += paragraph.text"
   ]
  },
  {
   "cell_type": "code",
   "execution_count": 0,
   "metadata": {
    "collapsed": false
   },
   "outputs": [
   ],
   "source": [
    "'''\n",
    "Doing the same without removing stop words or lemming\n",
    "'''\n",
    "# tokenize the text using sent_tokenize\n",
    "\n",
    "# from this list of sentences, create a list of lists where the ith entry in the list is the word tokenizaiton of the ith sentence (after preprocessing)"
   ]
  },
  {
   "cell_type": "code",
   "execution_count": 0,
   "metadata": {
    "collapsed": false
   },
   "outputs": [
   ],
   "source": [
    "# Redo the word cloud but set stopwords to empty so it looks really bad\n",
    "wordcloud = WordCloud(\n",
    "                        background_color='white',\n",
    "                        max_words=100,\n",
    "                        max_font_size=50, \n",
    "                        random_state=42, ###SET STOPWORDS = [] and/or include_numbers = True or you will get the same thing!!!\n",
    "                        stopwords = [],\n",
    "                        include_numbers = True).generate(str(lame_sentences)) \n",
    "fig = plt.figure(1)\n",
    "plt.figure(figsize=(10,10))\n",
    "plt.imshow(wordcloud, interpolation=\"bilinear\")\n",
    "plt.axis('off')\n",
    "plt.show()"
   ]
  },
  {
   "cell_type": "code",
   "execution_count": 0,
   "metadata": {
    "collapsed": false
   },
   "outputs": [
   ],
   "source": [
    "# Training the Word2Vec model (same code as before), but one change: use our lame data that was not preprocessed\n",
    "\n",
    "# Try printing this after training the model.\n",
    "words = model.wv.index_to_key\n",
    "print(words[:10])"
   ]
  },
  {
   "cell_type": "code",
   "execution_count": 0,
   "metadata": {
    "collapsed": false
   },
   "outputs": [
   ],
   "source": [
    "# Finding a vector of a word, but badly"
   ]
  },
  {
   "cell_type": "code",
   "execution_count": 0,
   "metadata": {
    "collapsed": false
   },
   "outputs": [
   ],
   "source": [
    "### Finding the most similar words in the model but... you get the idea ###\n",
    "\n"
   ]
  },
  {
   "cell_type": "code",
   "execution_count": 0,
   "metadata": {
    "collapsed": false
   },
   "outputs": [
   ],
   "source": [
   ]
  },
  {
   "cell_type": "markdown",
   "metadata": {
    "collapsed": false
   },
   "source": [
    "## Reflection\n",
    "\n",
    "How important do you think proper preprocessing in NLP is?\n",
    "\n"
   ]
  },
  {
   "cell_type": "markdown",
   "metadata": {
    "collapsed": false
   },
   "source": [
   ]
  }
 ],
 "metadata": {
  "interpreter": {
   "hash": "335ee12212264728feb72f243af72c5a8ea26c832f07e1f651ce9e17c7ceae23"
  },
  "kernelspec": {
   "display_name": "Python (nlp_env)",
   "language": "python",
   "metadata": {
    "debugger": true
   },
   "name": "nlp_env",
   "resource_dir": "/projects/aebc210b-e912-4df7-91ea-37e0f8451ece/.local/share/jupyter/kernels/nlp_env"
  },
  "language_info": {
   "codemirror_mode": {
    "name": "ipython",
    "version": 3
   },
   "file_extension": ".py",
   "mimetype": "text/x-python",
   "name": "python",
   "nbconvert_exporter": "python",
   "pygments_lexer": "ipython3",
   "version": "3.9.12"
  },
  "widgets": {
   "application/vnd.jupyter.widget-state+json": {
    "state": {
    },
    "version_major": 2,
    "version_minor": 0
   }
  }
 },
 "nbformat": 4,
 "nbformat_minor": 4
}