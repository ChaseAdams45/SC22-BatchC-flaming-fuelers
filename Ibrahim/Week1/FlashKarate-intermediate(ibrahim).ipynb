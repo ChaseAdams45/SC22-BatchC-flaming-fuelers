{
 "cells": [
  {
   "cell_type": "markdown",
   "metadata": {
    "collapsed": false,
    "id": "jQu4NqtgVF8l"
   },
   "source": [
   ]
  },
  {
   "cell_type": "markdown",
   "metadata": {
    "collapsed": false,
    "id": "cuw7LZy3VF8q"
   },
   "source": [
    "## The Stances!\n",
    "\n",
    "Here are the stances:\n",
    "\n",
    "* Shezentai: Natural Stance\n",
    "* Choku-Zuki: Straight Punch\n",
    "* Oi-Zuki: Front Lunge Punch\n",
    "* Gyaku-Zuki: Reverse Punch\n",
    "* Gedan Barai: Down Block\n",
    "* Age-Uke: Rising Block\n",
    "\n",
    "If you're curious here are some photos of the stances. \n",
    "<br>\n",
    "<br>\n",
    "\n",
    "<center />\n",
    "<img src=\"https://globalmartialarts.university/wp-content/uploads/2021/01/Shotokan-Beginners-Guide-Infographic-2.jpg\" width=560 height=660 />\n",
    "\n"
   ]
  },
  {
   "cell_type": "markdown",
   "metadata": {
    "collapsed": false,
    "id": "RHa0Vb_rXjQr"
   },
   "source": [
    "## Some python help\n",
    "\n",
    "Here is some python code that might help you on your journey! Mainly you should have a good idea of how dictionaries function, since they work pretty similar to flashcards."
   ]
  },
  {
   "cell_type": "markdown",
   "metadata": {
    "collapsed": false,
    "id": "yr1mQTCVfmhM"
   },
   "source": [
    "### Dictionaries Review"
   ]
  },
  {
   "cell_type": "markdown",
   "metadata": {
    "collapsed": false,
    "id": "wDh9B_Prfkgr"
   },
   "source": [
   ]
  },
  {
   "cell_type": "markdown",
   "metadata": {
    "collapsed": false,
    "id": "HxiI3weuVF8t"
   },
   "source": [
   ]
  },
  {
   "cell_type": "markdown",
   "metadata": {
    "collapsed": false,
    "id": "acolMI3gVF8w"
   },
   "source": [
   ]
  },
  {
   "cell_type": "markdown",
   "metadata": {
    "collapsed": false,
    "id": "EL8bZ5XLVF8z"
   },
   "source": [
   ]
  },
  {
   "cell_type": "markdown",
   "metadata": {
    "collapsed": false,
    "id": "mYVCZ2RKVF80"
   },
   "source": [
   ]
  },
  {
   "cell_type": "code",
   "execution_count": 0,
   "metadata": {
    "cocalc": {
     "outputs": {
      "0": {
       "name": "input",
       "opts": {
        "password": false,
        "prompt": "Play game? ('y' to continue) "
       },
       "output_type": "stream",
       "value": ""
      },
      "10": {
       "name": "input",
       "opts": {
        "password": false,
        "prompt": "ANSWER: "
       },
       "output_type": "stream",
       "value": "d"
      },
      "12": {
       "name": "input",
       "opts": {
        "password": false,
        "prompt": "ANSWER: "
       },
       "output_type": "stream",
       "value": "f"
      },
      "14": {
       "name": "input",
       "opts": {
        "password": false,
        "prompt": "Play again? ('y' to continue) "
       },
       "output_type": "stream",
       "value": "n"
      },
      "2": {
       "name": "input",
       "opts": {
        "password": false,
        "prompt": "ANSWER: "
       },
       "output_type": "stream",
       "value": "d"
      },
      "4": {
       "name": "input",
       "opts": {
        "password": false,
        "prompt": "ANSWER: "
       },
       "output_type": "stream",
       "value": "a"
      },
      "6": {
       "name": "input",
       "opts": {
        "password": false,
        "prompt": "ANSWER: "
       },
       "output_type": "stream",
       "value": "f"
      },
      "8": {
       "name": "input",
       "opts": {
        "password": false,
        "prompt": "ANSWER: "
       },
       "output_type": "stream",
       "value": "a"
      }
     }
    },
    "collapsed": false,
    "id": "unJkdlnQVF81"
   },
   "outputs": [
   ],
   "source": [
   ]
  }
 ],
 "metadata": {
  "colab": {
   "collapsed_sections": [
    "acolMI3gVF8w",
    "EL8bZ5XLVF8z"
   ],
   "name": "FlashKarate!.ipynb",
   "provenance": [
   ]
  },
  "kernelspec": {
   "display_name": "Python 3 (Ubuntu Linux)",
   "language": "python",
   "name": "python3-ubuntu",
   "resource_dir": "/usr/local/share/jupyter/kernels/python3-ubuntu"
  },
  "language_info": {
   "codemirror_mode": {
    "name": "ipython",
    "version": 3
   },
   "file_extension": ".py",
   "mimetype": "text/x-python",
   "name": "python",
   "nbconvert_exporter": "python",
   "pygments_lexer": "ipython3",
   "version": "3.8.2"
  }
 },
 "nbformat": 4,
 "nbformat_minor": 4
}